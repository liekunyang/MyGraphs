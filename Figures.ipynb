{
 "cells": [
  {
   "cell_type": "markdown",
   "metadata": {},
   "source": [
    "# Import libraries"
   ]
  },
  {
   "cell_type": "code",
   "execution_count": 11,
   "metadata": {
    "collapsed": false
   },
   "outputs": [],
   "source": [
    "import sys\n",
    "myFunctionsFolder = \"C:\\\\Users\\\\u5040252\\\\CloudStation\\\\Dropbox\\\\data Vincent\\\\Python\\\\myFunctions\\\\\"\n",
    "if not  myFunctionsFolder in sys.path:\n",
    "    sys.path.append(myFunctionsFolder)\n",
    "    \n",
    "\n",
    "\n",
    "    \n",
    "# from denoising import denoise_df, rolling_linear_reg, myround\n",
    "from MyGraphs import *\n",
    "import pandas as pd\n",
    "import time\n",
    "import os\n",
    "import glob\n",
    "from  collections import *\n",
    "\n",
    "% matplotlib inline"
   ]
  },
  {
   "cell_type": "markdown",
   "metadata": {},
   "source": [
    "# Folders and files variables"
   ]
  },
  {
   "cell_type": "code",
   "execution_count": 9,
   "metadata": {
    "collapsed": false
   },
   "outputs": [],
   "source": [
    "datafolder = \"C:\\\\Users\\\\U5040252\\\\Cloudstation\\\\Projects\\\\Mass_Spec_Data\\\\2016\\\\\"\n",
    "pattern = '20160525'  #date pattern. Examples: '2016', '201601', '20160331'"
   ]
  },
  {
   "cell_type": "markdown",
   "metadata": {},
   "source": [
    "# Create individual graphs, compiled graphs and fluxes calculation"
   ]
  },
  {
   "cell_type": "code",
   "execution_count": 12,
   "metadata": {
    "collapsed": false
   },
   "outputs": [
    {
     "name": "stdout",
     "output_type": "stream",
     "text": [
      "\n",
      "20160525\n",
      "C:\\Users\\U5040252\\Cloudstation\\Projects\\Mass_Spec_Data\\2016\\20160525\\_20160525_MASTER.csv  exists\n",
      "  "
     ]
    },
    {
     "name": "stderr",
     "output_type": "stream",
     "text": [
      "C:\\Anaconda3\\lib\\site-packages\\pandas\\core\\index.py:6154: RuntimeWarning: unorderable types: str() < int(), sort order is undefined for incomparable objects\n",
      "  result = result.union(other)\n",
      "C:\\Anaconda3\\lib\\site-packages\\pandas\\core\\indexing.py:266: SettingWithCopyWarning: \n",
      "A value is trying to be set on a copy of a slice from a DataFrame.\n",
      "Try using .loc[row_indexer,col_indexer] = value instead\n",
      "\n",
      "See the caveats in the documentation: http://pandas.pydata.org/pandas-docs/stable/indexing.html#indexing-view-versus-copy\n",
      "  self.obj[key] = _infer_fill_value(value)\n"
     ]
    },
    {
     "name": "stdout",
     "output_type": "stream",
     "text": [
      " cc125m_2-dbAZ_old ['d44dt', 'd45dt', 'd47dt', 'd49dt', 'dtotalCO2dt']\n",
      "   cc125m_2-dbAZ_fresh ['d44dt', 'd45dt', 'd47dt', 'd49dt', 'dtotalCO2dt']\n",
      "   cc125m_1b_fresh ['d44dt', 'd45dt', 'd47dt', 'd49dt', 'dtotalCO2dt']\n",
      "   cc125m_2b-dbAZ_fresh ['d44dt', 'd45dt', 'd47dt', 'd49dt', 'dtotalCO2dt']\n",
      "   cc125m_2_old_2 ['d44dt', 'd45dt', 'd47dt', 'd49dt', 'dtotalCO2dt']\n",
      "   cc125m_4_fresh ['d44dt', 'd45dt', 'd47dt', 'd49dt', 'dtotalCO2dt']\n",
      "   cc125m_1_fresh ['d44dt', 'd45dt', 'd47dt', 'd49dt', 'dtotalCO2dt']\n",
      "   cc125m_1_fresh_2 ['d44dt', 'd45dt', 'd47dt', 'd49dt', 'dtotalCO2dt']\n",
      "   cc125m_1_old ['d44dt', 'd45dt', 'd47dt', 'd49dt', 'dtotalCO2dt']\n",
      "   cc125m_2_fresh_3 ['d44dt', 'd45dt', 'd47dt', 'd49dt', 'dtotalCO2dt']\n",
      "   cc125m_2_old ['d44dt', 'd45dt', 'd47dt', 'd49dt', 'dtotalCO2dt']\n",
      "   cc125m_4_old ['d44dt', 'd45dt', 'd47dt', 'd49dt', 'dtotalCO2dt']\n",
      "   cc125m_2b_fresh ['d44dt', 'd45dt', 'd47dt', 'd49dt', 'dtotalCO2dt']\n",
      "   cc125m_2b_fresh_2 ['d44dt', 'd45dt', 'd47dt', 'd49dt', 'dtotalCO2dt']\n",
      "   cc125m_3_fresh ['d44dt', 'd45dt', 'd47dt', 'd49dt', 'dtotalCO2dt']\n",
      "   cc125m_2b_old ['d44dt', 'd45dt', 'd47dt', 'd49dt', 'dtotalCO2dt']\n",
      "   cc125m_2b-dbAZ_old ['d44dt', 'd45dt', 'd47dt', 'd49dt', 'dtotalCO2dt']\n",
      "   cc125m_3_old ['d44dt', 'd45dt', 'd47dt', 'd49dt', 'dtotalCO2dt']\n",
      "   cc125m_2_fresh ['d44dt', 'd45dt', 'd47dt', 'd49dt', 'dtotalCO2dt']\n",
      "   cc125m_3_fresh_2 ['d44dt', 'd45dt', 'd47dt', 'd49dt', 'dtotalCO2dt']\n",
      "   cc125m_2_fresh_2 ['d44dt', 'd45dt', 'd47dt', 'd49dt', 'dtotalCO2dt']\n",
      "   cc125m_5_fresh ['d44dt', 'd45dt', 'd47dt', 'd49dt', 'dtotalCO2dt']\n",
      "   cc125m_2-dbAZ_old ['d32dt_cd_chl']\n",
      "   cc125m_2-dbAZ_fresh ['d32dt_cd_chl']\n",
      "   cc125m_1b_fresh ['d32dt_cd_chl']\n",
      "   cc125m_2b-dbAZ_fresh ['d32dt_cd_chl']\n",
      "   cc125m_2_old_2 ['d32dt_cd_chl']\n",
      "   cc125m_4_fresh ['d32dt_cd_chl']\n",
      "   cc125m_1_fresh ['d32dt_cd_chl']\n",
      "   cc125m_1_fresh_2 ['d32dt_cd_chl']\n",
      "   cc125m_1_old ['d32dt_cd_chl']\n",
      "   cc125m_2_fresh_3 ['d32dt_cd_chl']\n",
      "   cc125m_2_old ['d32dt_cd_chl']\n",
      "   cc125m_4_old ['d32dt_cd_chl']\n",
      "   cc125m_2b_fresh ['d32dt_cd_chl']\n",
      "   cc125m_2b_fresh_2 ['d32dt_cd_chl']\n",
      "   cc125m_3_fresh ['d32dt_cd_chl']\n",
      "   cc125m_2b_old ['d32dt_cd_chl']\n",
      "   cc125m_2b-dbAZ_old ['d32dt_cd_chl']\n",
      "   cc125m_3_old ['d32dt_cd_chl']\n",
      "   cc125m_2_fresh ['d32dt_cd_chl']\n",
      "   cc125m_3_fresh_2 ['d32dt_cd_chl']\n",
      "   cc125m_2_fresh_2 ['d32dt_cd_chl']\n",
      "   cc125m_5_fresh ['d32dt_cd_chl']\n",
      "   cc125m_2-dbAZ_old ['enrichrate49_chl']\n",
      "   cc125m_2-dbAZ_fresh ['enrichrate49_chl']\n",
      "   cc125m_1b_fresh ['enrichrate49_chl']\n",
      "   cc125m_2b-dbAZ_fresh ['enrichrate49_chl']\n",
      "   cc125m_2_old_2 ['enrichrate49_chl']\n",
      "   cc125m_4_fresh ['enrichrate49_chl']\n",
      "   cc125m_1_fresh ['enrichrate49_chl']\n",
      "   cc125m_1_fresh_2 ['enrichrate49_chl']\n",
      "   cc125m_1_old ['enrichrate49_chl']\n",
      "   cc125m_2_fresh_3 ['enrichrate49_chl']\n",
      "   cc125m_2_old ['enrichrate49_chl']\n",
      "   cc125m_4_old ['enrichrate49_chl']\n",
      "   cc125m_2b_fresh ['enrichrate49_chl']\n",
      "   cc125m_2b_fresh_2 ['enrichrate49_chl']\n",
      "   cc125m_3_fresh ['enrichrate49_chl']\n",
      "   cc125m_2b_old ['enrichrate49_chl']\n",
      "   cc125m_2b-dbAZ_old ['enrichrate49_chl']\n",
      "   cc125m_3_old ['enrichrate49_chl']\n",
      "   cc125m_2_fresh ['enrichrate49_chl']\n",
      "   cc125m_3_fresh_2 ['enrichrate49_chl']\n",
      "   cc125m_2_fresh_2 ['enrichrate49_chl']\n",
      "   cc125m_5_fresh ['enrichrate49_chl']\n",
      "   cc125m_2-dbAZ_old ['logE49']\n",
      "   cc125m_2-dbAZ_fresh ['logE49']\n",
      "   cc125m_1b_fresh ['logE49']\n",
      "   cc125m_2b-dbAZ_fresh ['logE49']\n",
      "   cc125m_2_old_2 ['logE49']\n",
      "   cc125m_4_fresh ['logE49']\n",
      "   cc125m_1_fresh ['logE49']\n",
      "   cc125m_1_fresh_2 ['logE49']\n",
      "   cc125m_1_old ['logE49']\n",
      "   cc125m_2_fresh_3 ['logE49']\n",
      "   cc125m_2_old ['logE49']\n",
      "   cc125m_4_old ['logE49']\n",
      "   cc125m_2b_fresh ['logE49']\n",
      "   cc125m_2b_fresh_2 ['logE49']\n",
      "   cc125m_3_fresh ['logE49']\n",
      "   cc125m_2b_old ['logE49']\n",
      "   cc125m_2b-dbAZ_old ['logE49']\n",
      "   cc125m_3_old ['logE49']\n",
      "   cc125m_2_fresh ['logE49']\n",
      "   cc125m_3_fresh_2 ['logE49']\n",
      "   cc125m_2_fresh_2 ['logE49']\n",
      "   cc125m_5_fresh ['logE49']\n",
      "   cc125m_2-dbAZ_old ['Mass45', 'Mass47', 'Mass49', 'Mass44', 'totalCO2']\n",
      "   cc125m_2-dbAZ_fresh ['Mass45', 'Mass47', 'Mass49', 'Mass44', 'totalCO2']\n",
      "   cc125m_1b_fresh ['Mass45', 'Mass47', 'Mass49', 'Mass44', 'totalCO2']\n",
      "   cc125m_2b-dbAZ_fresh ['Mass45', 'Mass47', 'Mass49', 'Mass44', 'totalCO2']\n",
      "   cc125m_2_old_2 ['Mass45', 'Mass47', 'Mass49', 'Mass44', 'totalCO2']\n",
      "   cc125m_4_fresh ['Mass45', 'Mass47', 'Mass49', 'Mass44', 'totalCO2']\n",
      "   cc125m_1_fresh ['Mass45', 'Mass47', 'Mass49', 'Mass44', 'totalCO2']\n",
      "   cc125m_1_fresh_2 ['Mass45', 'Mass47', 'Mass49', 'Mass44', 'totalCO2']\n",
      "   cc125m_1_old ['Mass45', 'Mass47', 'Mass49', 'Mass44', 'totalCO2']\n",
      "   cc125m_2_fresh_3 ['Mass45', 'Mass47', 'Mass49', 'Mass44', 'totalCO2']\n",
      "   cc125m_2_old ['Mass45', 'Mass47', 'Mass49', 'Mass44', 'totalCO2']\n",
      "   cc125m_4_old ['Mass45', 'Mass47', 'Mass49', 'Mass44', 'totalCO2']\n",
      "   cc125m_2b_fresh ['Mass45', 'Mass47', 'Mass49', 'Mass44', 'totalCO2']\n",
      "   cc125m_2b_fresh_2 ['Mass45', 'Mass47', 'Mass49', 'Mass44', 'totalCO2']\n",
      "   cc125m_3_fresh ['Mass45', 'Mass47', 'Mass49', 'Mass44', 'totalCO2']\n",
      "   cc125m_2b_old ['Mass45', 'Mass47', 'Mass49', 'Mass44', 'totalCO2']\n",
      "   cc125m_2b-dbAZ_old ['Mass45', 'Mass47', 'Mass49', 'Mass44', 'totalCO2']\n",
      "   cc125m_3_old ['Mass45', 'Mass47', 'Mass49', 'Mass44', 'totalCO2']\n",
      "   cc125m_2_fresh ['Mass45', 'Mass47', 'Mass49', 'Mass44', 'totalCO2']\n",
      "   cc125m_3_fresh_2 ['Mass45', 'Mass47', 'Mass49', 'Mass44', 'totalCO2']\n",
      "   cc125m_2_fresh_2 ['Mass45', 'Mass47', 'Mass49', 'Mass44', 'totalCO2']\n",
      "   cc125m_5_fresh ['Mass45', 'Mass47', 'Mass49', 'Mass44', 'totalCO2']\n",
      "C:\\Users\\U5040252\\Cloudstation\\Projects\\Mass_Spec_Data\\2016\\20160525\\figures\\compiled\\logE49\\Cell_concentration\n",
      "C:\\Users\\U5040252\\Cloudstation\\Projects\\Mass_Spec_Data\\2016\\20160525\\figures\\compiled\\logE49\\Cell_concentration\n",
      "C:\\Users\\U5040252\\Cloudstation\\Projects\\Mass_Spec_Data\\2016\\20160525\\figures\\compiled\\logE49\\Cell_concentration\n",
      "C:\\Users\\U5040252\\Cloudstation\\Projects\\Mass_Spec_Data\\2016\\20160525\\figures\\compiled\\logE49\\Cell_concentration\n",
      "C:\\Users\\U5040252\\Cloudstation\\Projects\\Mass_Spec_Data\\2016\\20160525\\figures\\compiled\\logE49\\Cell_concentration\n",
      "C:\\Users\\U5040252\\Cloudstation\\Projects\\Mass_Spec_Data\\2016\\20160525\\figures\\compiled\\logE49\\dbAZ_preincubation/Cell_concentration\n",
      "C:\\Users\\U5040252\\Cloudstation\\Projects\\Mass_Spec_Data\\2016\\20160525\\figures\\compiled\\logE49\\dbAZ_preincubation/Cell_concentration\n",
      "C:\\Users\\U5040252\\Cloudstation\\Projects\\Mass_Spec_Data\\2016\\20160525\\figures\\compiled\\logE49\\dbAZ_preincubation\n",
      "C:\\Users\\U5040252\\Cloudstation\\Projects\\Mass_Spec_Data\\2016\\20160525\\figures\\compiled\\logE49\\dbAZ_preincubation\n",
      "C:\\Users\\U5040252\\Cloudstation\\Projects\\Mass_Spec_Data\\2016\\20160525\\figures\\compiled\\d32dt_cd_chl\\Cell_concentration\n",
      "C:\\Users\\U5040252\\Cloudstation\\Projects\\Mass_Spec_Data\\2016\\20160525\\figures\\compiled\\d32dt_cd_chl\\Cell_concentration\n",
      "C:\\Users\\U5040252\\Cloudstation\\Projects\\Mass_Spec_Data\\2016\\20160525\\figures\\compiled\\d32dt_cd_chl\\Cell_concentration\n",
      "C:\\Users\\U5040252\\Cloudstation\\Projects\\Mass_Spec_Data\\2016\\20160525\\figures\\compiled\\d32dt_cd_chl\\Cell_concentration\n",
      "C:\\Users\\U5040252\\Cloudstation\\Projects\\Mass_Spec_Data\\2016\\20160525\\figures\\compiled\\d32dt_cd_chl\\Cell_concentration\n",
      "C:\\Users\\U5040252\\Cloudstation\\Projects\\Mass_Spec_Data\\2016\\20160525\\figures\\compiled\\d32dt_cd_chl\\dbAZ_preincubation/Cell_concentration\n",
      "C:\\Users\\U5040252\\Cloudstation\\Projects\\Mass_Spec_Data\\2016\\20160525\\figures\\compiled\\d32dt_cd_chl\\dbAZ_preincubation/Cell_concentration\n",
      "C:\\Users\\U5040252\\Cloudstation\\Projects\\Mass_Spec_Data\\2016\\20160525\\figures\\compiled\\d32dt_cd_chl\\dbAZ_preincubation\n",
      "C:\\Users\\U5040252\\Cloudstation\\Projects\\Mass_Spec_Data\\2016\\20160525\\figures\\compiled\\d32dt_cd_chl\\dbAZ_preincubation\n",
      "C:\\Users\\U5040252\\Cloudstation\\Projects\\Mass_Spec_Data\\2016\\20160525\\figures\\compiled\\enrichrate49_chl\\Cell_concentration\n",
      "C:\\Users\\U5040252\\Cloudstation\\Projects\\Mass_Spec_Data\\2016\\20160525\\figures\\compiled\\enrichrate49_chl\\Cell_concentration\n",
      "C:\\Users\\U5040252\\Cloudstation\\Projects\\Mass_Spec_Data\\2016\\20160525\\figures\\compiled\\enrichrate49_chl\\Cell_concentration\n",
      "C:\\Users\\U5040252\\Cloudstation\\Projects\\Mass_Spec_Data\\2016\\20160525\\figures\\compiled\\enrichrate49_chl\\Cell_concentration\n",
      "C:\\Users\\U5040252\\Cloudstation\\Projects\\Mass_Spec_Data\\2016\\20160525\\figures\\compiled\\enrichrate49_chl\\Cell_concentration\n",
      "C:\\Users\\U5040252\\Cloudstation\\Projects\\Mass_Spec_Data\\2016\\20160525\\figures\\compiled\\enrichrate49_chl\\dbAZ_preincubation/Cell_concentration\n",
      "C:\\Users\\U5040252\\Cloudstation\\Projects\\Mass_Spec_Data\\2016\\20160525\\figures\\compiled\\enrichrate49_chl\\dbAZ_preincubation/Cell_concentration\n",
      "C:\\Users\\U5040252\\Cloudstation\\Projects\\Mass_Spec_Data\\2016\\20160525\\figures\\compiled\\enrichrate49_chl\\dbAZ_preincubation\n",
      "C:\\Users\\U5040252\\Cloudstation\\Projects\\Mass_Spec_Data\\2016\\20160525\\figures\\compiled\\enrichrate49_chl\\dbAZ_preincubation\n",
      "C:\\Users\\U5040252\\Cloudstation\\Projects\\Mass_Spec_Data\\2016\\20160525\\figures\\compiled\\enrichrate49\\Cell_concentration\n",
      "C:\\Users\\U5040252\\Cloudstation\\Projects\\Mass_Spec_Data\\2016\\20160525\\figures\\compiled\\enrichrate49\\Cell_concentration\n",
      "C:\\Users\\U5040252\\Cloudstation\\Projects\\Mass_Spec_Data\\2016\\20160525\\figures\\compiled\\d45dt\\Cell_concentration\n",
      "C:\\Users\\U5040252\\Cloudstation\\Projects\\Mass_Spec_Data\\2016\\20160525\\figures\\compiled\\d32dt_cd\\Cell_concentration\n",
      "C:\\Users\\U5040252\\Cloudstation\\Projects\\Mass_Spec_Data\\2016\\20160525\\figures\\compiled\\d49dt\\Cell_concentration\n",
      "C:\\Users\\U5040252\\Cloudstation\\Projects\\Mass_Spec_Data\\2016\\20160525\\figures\\compiled\\d45dt\\Cell_concentration\n",
      "C:\\Users\\U5040252\\Cloudstation\\Projects\\Mass_Spec_Data\\2016\\20160525\\figures\\compiled\\d32dt_cd\\Cell_concentration\n",
      "C:\\Users\\U5040252\\Cloudstation\\Projects\\Mass_Spec_Data\\2016\\20160525\\figures\\compiled\\d49dt\\Cell_concentration\n",
      "flux cc125m_2-dbAZ_old CELLS\n",
      "flux cc125m_2-dbAZ_fresh CELLS\n",
      "flux cc125m_1b_fresh CELLS\n",
      "flux cc125m_2b-dbAZ_fresh CELLS\n",
      "flux cc125m_2_old_2 CELLS\n",
      "flux cc125m_4_fresh CELLS\n",
      "flux cc125m_1_fresh CELLS\n",
      "flux cc125m_1_fresh_2 CELLS\n",
      "flux cc125m_1_old CELLS\n",
      "flux cc125m_2_fresh_3 CELLS\n",
      "flux cc125m_2_old CELLS\n",
      "flux cc125m_4_old CELLS\n",
      "flux cc125m_2b_fresh CELLS\n",
      "flux cc125m_2b_fresh_2 CELLS\n",
      "flux cc125m_3_fresh CELLS\n",
      "flux cc125m_2b_old CELLS\n",
      "flux cc125m_2b-dbAZ_old CELLS\n",
      "flux cc125m_3_old CELLS\n",
      "flux cc125m_2_fresh CELLS\n",
      "flux cc125m_3_fresh_2 CELLS\n",
      "flux cc125m_2_fresh_2 CELLS\n",
      "flux cc125m_5_fresh CELLS\n",
      "flux cc125m_4_old LIGHT ON\n",
      "flux cc125m_1_fresh LIGHT ON\n",
      "flux cc125m_3_fresh LIGHT ON\n",
      "flux cc125m_1_fresh_2 LIGHT ON\n",
      "flux cc125m_2b_fresh_2 LIGHT ON\n",
      "flux cc125m_3_old LIGHT ON\n",
      "flux cc125m_2-dbAZ_old LIGHT ON\n",
      "flux cc125m_2_fresh LIGHT ON\n",
      "flux cc125m_2-dbAZ_fresh LIGHT ON\n",
      "flux cc125m_1_old LIGHT ON\n",
      "flux cc125m_2b_old LIGHT ON\n",
      "flux cc125m_3_fresh_2 LIGHT ON\n",
      "flux cc125m_2_fresh_3 LIGHT ON\n",
      "flux cc125m_1b_fresh LIGHT ON\n",
      "flux cc125m_2_old LIGHT ON\n",
      "flux cc125m_2_fresh_2 LIGHT ON\n",
      "flux cc125m_2_old_2 LIGHT ON\n",
      "flux cc125m_4_fresh LIGHT ON\n",
      "flux cc125m_2b_fresh LIGHT ON\n",
      "flux cc125m_5_fresh LIGHT ON\n",
      "flux cc125m_2b-dbAZ_old LIGHT ON\n",
      "flux cc125m_4_old LIGHT OFF\n",
      "flux cc125m_1_fresh LIGHT OFF\n",
      "flux cc125m_3_fresh LIGHT OFF\n",
      "flux cc125m_1_fresh_2 LIGHT OFF\n",
      "flux cc125m_3_old LIGHT OFF\n",
      "flux cc125m_2-dbAZ_old LIGHT OFF\n",
      "flux cc125m_2_fresh LIGHT OFF\n",
      "flux cc125m_2-dbAZ_fresh LIGHT OFF\n",
      "flux cc125m_1_old LIGHT OFF\n",
      "flux cc125m_2b_old LIGHT OFF\n",
      "flux cc125m_3_fresh_2 LIGHT OFF\n",
      "flux cc125m_2_fresh_3 LIGHT OFF\n",
      "flux cc125m_1b_fresh LIGHT OFF\n",
      "flux cc125m_2_old LIGHT OFF\n",
      "flux cc125m_2_fresh_2 LIGHT OFF\n",
      "flux cc125m_2b-dbAZ_fresh LIGHT OFF\n",
      "flux cc125m_2_old_2 LIGHT OFF\n",
      "flux cc125m_4_fresh LIGHT OFF\n",
      "flux cc125m_2b_fresh LIGHT OFF\n",
      "flux cc125m_5_fresh LIGHT OFF\n",
      "flux cc125m_2b-dbAZ_old LIGHT OFF\n"
     ]
    },
    {
     "name": "stderr",
     "output_type": "stream",
     "text": [
      "C:\\Anaconda3\\lib\\site-packages\\pandas\\core\\indexing.py:426: SettingWithCopyWarning: \n",
      "A value is trying to be set on a copy of a slice from a DataFrame.\n",
      "Try using .loc[row_indexer,col_indexer] = value instead\n",
      "\n",
      "See the caveats in the documentation: http://pandas.pydata.org/pandas-docs/stable/indexing.html#indexing-view-versus-copy\n",
      "  self.obj[item] = s\n"
     ]
    }
   ],
   "source": [
    "# load list of compiled figures\n",
    "figuresfile = os.path.join(datafolder, 'figures.txt')\n",
    "figs = pd.read_csv(figuresfile, sep='\\t')\n",
    "figs = figs.loc[figs.type == 'compiled',:]\n",
    "figs['day'] = figs.day.apply(str)\n",
    "figs['day'] = figs.day.apply(lambda x:x.split(\".\")[0])\n",
    "\n",
    "for d in glob.glob(os.path.join(datafolder, pattern + \"*\")):\n",
    "    if os.path.isdir(d):\n",
    "        day = d.split(\"\\\\\")[-1]\n",
    "        print('')\n",
    "        print(day)\n",
    "        \n",
    "        myg = MyGraphs(datafolder, day, denoise=False, derive=False, norm_chl=False)\n",
    "#         myg = MyGraphs(datafolder, day)\n",
    "    \n",
    "        \n",
    "        \n",
    "        # config\n",
    "        myg.linewidth = 2\n",
    "        myg.figformat = 'jpg'\n",
    "        myg.dpi = 300\n",
    "        myg.figWidth = 12\n",
    "        myg.figHeight = 9\n",
    "        myg.annotate = True\n",
    "        myg.legend = True\n",
    "        myg.legend_pos = 2 # 1=bot left, 2=top left, 3=top right, 4=bot right\n",
    "#         myg.ymin=-0.4\n",
    "#         myg.ymax = 0.02\n",
    "        myg.title = True\n",
    "    \n",
    "\n",
    "        # individual graphs\n",
    "        myg.individual_graphs(['d44dt','d45dt','d47dt','d49dt','dtotalCO2dt'], show_noisy=True, show_denoised=False)        \n",
    "        myg.individual_graphs(['d32dt_cd_chl'], show_noisy=True, show_denoised=False)        \n",
    "        myg.individual_graphs(['enrichrate49_chl'], show_noisy=False, show_denoised=True)\n",
    "        myg.individual_graphs(['logE49'], show_noisy=True, show_denoised=False)\n",
    "        myg.individual_graphs(['Mass45', 'Mass47', 'Mass49', 'Mass44', 'totalCO2'], show_noisy=False, show_denoised=True)\n",
    "        \n",
    "\n",
    "        for row in figs.loc[(figs.type == 'compiled') & (figs.day == day),:].iterrows():\n",
    "            myg.compiled_graphs(what=row[1]['what'],\n",
    "                                which=row[1]['which'].split(','),\n",
    "                                subfolder=row[1]['subfolder'],\n",
    "                                show_noisy=False,\n",
    "                                show_denoised=True)\n",
    "        # fluxes        \n",
    "        myg.flux(\"CELLS\")\n",
    "        myg.flux(\"LIGHT ON\")\n",
    "        myg.flux(\"LIGHT OFF\")"
   ]
  },
  {
   "cell_type": "markdown",
   "metadata": {},
   "source": [
    "# calculate fluxes"
   ]
  },
  {
   "cell_type": "code",
   "execution_count": null,
   "metadata": {
    "collapsed": false
   },
   "outputs": [],
   "source": [
    "for d in glob.glob(os.path.join(datafolder, pattern + \"*\")):\n",
    "    if os.path.isdir(d):\n",
    "        day = d.split(\"\\\\\")[-1]\n",
    "        print('')\n",
    "        print(day)\n",
    "        \n",
    "        myg = MyGraphs(datafolder, day)\n",
    "        \n",
    "        myg.flux(\"CELLS\")\n",
    "        myg.flux(\"LIGHT ON\")\n",
    "        myg.flux(\"LIGHT OFF\")\n",
    "        "
   ]
  },
  {
   "cell_type": "markdown",
   "metadata": {},
   "source": [
    "# Clean old, automatically created files and folders"
   ]
  },
  {
   "cell_type": "code",
   "execution_count": 3,
   "metadata": {
    "collapsed": false
   },
   "outputs": [
    {
     "name": "stdout",
     "output_type": "stream",
     "text": [
      "\n",
      " 20160510\n",
      "[ ] C:\\Users\\U5040252\\Cloudstation\\Projects\\Mass_Spec_Data\\2016\\20160510\\20160510_cia3_air5h_fresh.csv\n",
      "[ ] C:\\Users\\U5040252\\Cloudstation\\Projects\\Mass_Spec_Data\\2016\\20160510\\20160510_cia3_air5h_old.csv\n",
      "[ ] C:\\Users\\U5040252\\Cloudstation\\Projects\\Mass_Spec_Data\\2016\\20160510\\20160510_cia3_highCO2_fresh.csv\n",
      "[ ] C:\\Users\\U5040252\\Cloudstation\\Projects\\Mass_Spec_Data\\2016\\20160510\\20160510_cia3_highCO2_old.csv\n",
      "[ ] C:\\Users\\U5040252\\Cloudstation\\Projects\\Mass_Spec_Data\\2016\\20160510\\20160510_cia5_air5h_fresh.csv\n",
      "[ ] C:\\Users\\U5040252\\Cloudstation\\Projects\\Mass_Spec_Data\\2016\\20160510\\20160510_cia5_air5h_old.csv\n",
      "[ ] C:\\Users\\U5040252\\Cloudstation\\Projects\\Mass_Spec_Data\\2016\\20160510\\20160510_cia5_highCO2_fresh.csv\n",
      "[ ] C:\\Users\\U5040252\\Cloudstation\\Projects\\Mass_Spec_Data\\2016\\20160510\\20160510_cia5_highCO2_old.csv\n",
      "[ ] C:\\Users\\U5040252\\Cloudstation\\Projects\\Mass_Spec_Data\\2016\\20160510\\20160510_pmp1_air5h_fresh.csv\n",
      "[ ] C:\\Users\\U5040252\\Cloudstation\\Projects\\Mass_Spec_Data\\2016\\20160510\\20160510_pmp1_air5h_old.csv\n",
      "[ ] C:\\Users\\U5040252\\Cloudstation\\Projects\\Mass_Spec_Data\\2016\\20160510\\20160510_pmp1_highCO2_fresh.csv\n",
      "[ ] C:\\Users\\U5040252\\Cloudstation\\Projects\\Mass_Spec_Data\\2016\\20160510\\20160510_pmp1_highCO2_old.csv\n",
      "[ ] C:\\Users\\U5040252\\Cloudstation\\Projects\\Mass_Spec_Data\\2016\\20160510\\20160510_SAMPLES.csv\n",
      "[ ] C:\\Users\\U5040252\\Cloudstation\\Projects\\Mass_Spec_Data\\2016\\20160510\\20160510_wt_air5h_fresh.csv\n",
      "[ ] C:\\Users\\U5040252\\Cloudstation\\Projects\\Mass_Spec_Data\\2016\\20160510\\20160510_wt_air5h_old.csv\n",
      "[ ] C:\\Users\\U5040252\\Cloudstation\\Projects\\Mass_Spec_Data\\2016\\20160510\\20160510_wt_highCO2-KOH_fresh.csv\n",
      "[ ] C:\\Users\\U5040252\\Cloudstation\\Projects\\Mass_Spec_Data\\2016\\20160510\\20160510_wt_highCO2-NaOH_fresh.csv\n",
      "[ ] C:\\Users\\U5040252\\Cloudstation\\Projects\\Mass_Spec_Data\\2016\\20160510\\20160510_wt_highCO2_fresh.csv\n",
      "[ ] C:\\Users\\U5040252\\Cloudstation\\Projects\\Mass_Spec_Data\\2016\\20160510\\20160510_wt_highCO2_old.csv\n",
      "[X] C:\\Users\\U5040252\\Cloudstation\\Projects\\Mass_Spec_Data\\2016\\20160510\\_20160510_log.csv\n",
      "[X] C:\\Users\\U5040252\\Cloudstation\\Projects\\Mass_Spec_Data\\2016\\20160510\\_20160510_SAMPLE_cleaned.csv\n",
      "defaultdict(<class 'int'>, {'20160510': 19})\n"
     ]
    }
   ],
   "source": [
    "pattern=\"20160510\"\n",
    "file_counter= defaultdict(int)\n",
    "\n",
    "for d in glob.glob(os.path.join(datafolder, pattern + \"*\")):\n",
    "    if os.path.isdir(d):\n",
    "        day = d.split(\"\\\\\")[-1]\n",
    "        print('\\n', day)\n",
    "        \n",
    "        # denoised folder\n",
    "        if os.path.isdir(os.path.join(datafolder, day, \"denoised_data\")):\n",
    "            for f in glob.glob(os.path.join(datafolder, day, \"denoised_data\\\\*.*\")):\n",
    "                os.remove(f)\n",
    "            os.rmdir(os.path.join(datafolder, day, \"denoised_data\\\\\"))\n",
    "            print(\"[X]\", os.path.join(datafolder, day, \"denoised_data\\\\\"))\n",
    "        \n",
    "\n",
    "        # various files\n",
    "        for datafile in glob.glob(os.path.join(d, \"*.csv\")):\n",
    "            if datafile.split(\"\\\\\")[-1] not in [\"_\" + day + \"_SAMPLE_cleaned.csv\",\n",
    "                                                \"_\" + day + \"_log.csv\",\n",
    "                                                \"_\" + day + \"_MASTER.csv\",\n",
    "                                                \"_\" + day + \"_SUMMARY.csv\"]:\n",
    "                print(\"[ ]\", datafile)\n",
    "                file_counter[day] +=1\n",
    "            else:\n",
    "                os.remove(datafile)\n",
    "                print(\"[X]\", datafile)\n",
    "        pass\n",
    "print(file_counter)"
   ]
  },
  {
   "cell_type": "code",
   "execution_count": null,
   "metadata": {
    "collapsed": false
   },
   "outputs": [],
   "source": [
    "a=0\n",
    "for k,v in file_counter.items():\n",
    "    a += v\n",
    "print(a)"
   ]
  },
  {
   "cell_type": "code",
   "execution_count": null,
   "metadata": {
    "collapsed": false
   },
   "outputs": [],
   "source": [
    "#recursive deletion of folders\n",
    "def del_tree(folder, inc=\"\"):\n",
    "    for f in glob.glob(os.path.join(folder, \"*\")):\n",
    "        if os.path.isdir(os.path.join(folder,f)):\n",
    "            print(inc, '[ ]', os.path.split(f)[-1])\n",
    "            inc += \" \"\n",
    "            del_tree(f, inc)\n",
    "        else:\n",
    "            os.remove(f)\n",
    "            print(inc, '[X]', os.path.split(f)[-1])\n",
    "    os.rmdir(folder)\n",
    "    print(inc, \"[X]\", folder)\n",
    "           \n",
    "    \n",
    "del_tree(datafolder + \"2016\\\\20160307\\\\figures\", \"\")"
   ]
  },
  {
   "cell_type": "code",
   "execution_count": null,
   "metadata": {
    "collapsed": false
   },
   "outputs": [],
   "source": [
    "pattern='2016'\n",
    "datafolder = datafolder = \"C:\\\\Users\\\\U5040252\\\\Cloudstation\\\\Projects\\\\Mass_Spec_Data\\\\2016\\\\\"\n",
    "\n",
    "\n",
    "file_counter= defaultdict(int)\n",
    "deleted_counter= defaultdict(int)\n",
    "deleted_dirs_counter = defaultdict(int)\n",
    "deleted = 0\n",
    "\n",
    "folders_to_delete = ['denoised_data', 'figures', 'flux']\n",
    "\n",
    "\n",
    "\n",
    "with open ('C:\\\\Users\\\\u5040252\\\\CloudStation\\\\'+pattern+'_out.txt', 'w') as f:\n",
    "\n",
    "    for d in glob.glob(os.path.join(datafolder, pattern + \"*\")):\n",
    "        if os.path.isdir(d):\n",
    "            day = d.split(\"\\\\\")[-1]\n",
    "            print('\\n', day)\n",
    "            f.write('\\n'+ day + '\\n')\n",
    "\n",
    "            #delete folders\n",
    "            for fold in folders_to_delete:\n",
    "                fold2 = os.path.join(datafolder, day, fold)\n",
    "                if os.path.isdir(fold2):\n",
    "                    print('[X]', fold2)\n",
    "                    f.write('[X] ' +  fold2+ '\\n')\n",
    "                    del_tree(fold2)\n",
    "                    deleted_dirs_counter[day] +=1\n",
    "\n",
    "\n",
    "\n",
    "            # various files\n",
    "            for datafile in glob.glob(os.path.join(d, \"*.csv\")):\n",
    "                if datafile.split(\"\\\\\")[-1] not in [\"_\" + day + \"_SAMPLE_cleaned.csv\",\n",
    "                                                    \"_\" + day + \"_log.csv\",\n",
    "                                                    \"_\" + day + \"_MASTER.csv\",\n",
    "                                                    \"_\" + day + \"_SUMMARY.csv\"]:\n",
    "                    print(\"[ ]\", datafile)\n",
    "                    f.write(\"[ ] \" + datafile+ '\\n')\n",
    "                    file_counter[day] +=1\n",
    "                else:\n",
    "                    deleted_counter[day] +=1\n",
    "                    os.remove(datafile)\n",
    "                    print(\"[X]\", datafile)\n",
    "                    f.write(\"[X] \" + datafile+ '\\n')\n",
    "\n",
    "    print(file_counter)\n",
    "    print(deleted_counter)\n",
    "    print(deleted_dirs_counter)\n"
   ]
  },
  {
   "cell_type": "code",
   "execution_count": null,
   "metadata": {
    "collapsed": true
   },
   "outputs": [],
   "source": []
  },
  {
   "cell_type": "code",
   "execution_count": null,
   "metadata": {
    "collapsed": true
   },
   "outputs": [],
   "source": []
  },
  {
   "cell_type": "markdown",
   "metadata": {},
   "source": [
    "# create a summary file"
   ]
  },
  {
   "cell_type": "code",
   "execution_count": null,
   "metadata": {
    "collapsed": false
   },
   "outputs": [],
   "source": [
    "myg = MyGraphs(datafolder, \"20160104\")\n",
    "# myg.individual_graphs(['d32dt'], show_noisy=False, show_denoised=True)\n"
   ]
  },
  {
   "cell_type": "code",
   "execution_count": null,
   "metadata": {
    "collapsed": false
   },
   "outputs": [],
   "source": [
    "myg.compiled_graphs(['Mass45','Mass47','Mass49'], which=['noAZ'], align=\"CELLS\", show_noisy=False, show_denoised=True)"
   ]
  },
  {
   "cell_type": "code",
   "execution_count": null,
   "metadata": {
    "collapsed": false
   },
   "outputs": [],
   "source": [
    "myg.individual_graphs(['Mass45','Mass47','Mass49'], show_noisy=False, show_denoised=True)\n"
   ]
  },
  {
   "cell_type": "code",
   "execution_count": null,
   "metadata": {
    "collapsed": false
   },
   "outputs": [],
   "source": [
    "myg.individual_graphs(['d45dt','d47dt','d49dt'], show_noisy=False, show_denoised=True)\n"
   ]
  },
  {
   "cell_type": "code",
   "execution_count": null,
   "metadata": {
    "collapsed": false
   },
   "outputs": [],
   "source": [
    "myg.individual_graphs(['d32dt'], show_noisy=False, show_denoised=True)\n"
   ]
  },
  {
   "cell_type": "code",
   "execution_count": null,
   "metadata": {
    "collapsed": false
   },
   "outputs": [],
   "source": [
    "myg.masterdf.columns\n",
    "        "
   ]
  },
  {
   "cell_type": "code",
   "execution_count": null,
   "metadata": {
    "collapsed": false
   },
   "outputs": [],
   "source": [
    "# homogenous time\n",
    "data['avgdt'] = data.time.diff().mean()\n",
    "data['time2'] = data.avgdt.cumsum()"
   ]
  },
  {
   "cell_type": "code",
   "execution_count": null,
   "metadata": {
    "collapsed": false
   },
   "outputs": [],
   "source": [
    "for a in [x for x in set([\"d32dt\", \"d40dt\", \"d44dt\", \"d45dt\", \"d46dt\", \"d47dt\", \"d49dt\"]) if x not in set(data.columns)]:\n",
    "    mass = \"Mass\" + a.lstrip('d').rstrip('dt')\n",
    "    data[a] = rolling_linear_reg(data.time, data[mass], 60)"
   ]
  },
  {
   "cell_type": "code",
   "execution_count": null,
   "metadata": {
    "collapsed": false
   },
   "outputs": [],
   "source": [
    "# data.d32dt.dtypes\n",
    "data.loc[200:,:].transpose()"
   ]
  },
  {
   "cell_type": "code",
   "execution_count": null,
   "metadata": {
    "collapsed": false
   },
   "outputs": [],
   "source": [
    "os.path.split(datafolder)"
   ]
  },
  {
   "cell_type": "code",
   "execution_count": null,
   "metadata": {
    "collapsed": false
   },
   "outputs": [],
   "source": [
    "datafolder"
   ]
  },
  {
   "cell_type": "code",
   "execution_count": null,
   "metadata": {
    "collapsed": true
   },
   "outputs": [],
   "source": [
    "\"C:\\\\Users\\\\U5040252\\\\My Documents\\\\Projects\\\\Mass_Spec_Data\\\\2016\""
   ]
  },
  {
   "cell_type": "code",
   "execution_count": null,
   "metadata": {
    "collapsed": false
   },
   "outputs": [],
   "source": [
    "os.path.split(\"C:\\\\Users\\\\U5040252\\\\My Documents\\\\Projects\\\\Mass_Spec_Data\\\\2016\")"
   ]
  },
  {
   "cell_type": "code",
   "execution_count": null,
   "metadata": {
    "collapsed": false
   },
   "outputs": [],
   "source": [
    "a=[1,2,3]\n",
    "a.insert(6, 1)\n",
    "a"
   ]
  },
  {
   "cell_type": "code",
   "execution_count": null,
   "metadata": {
    "collapsed": true
   },
   "outputs": [],
   "source": []
  },
  {
   "cell_type": "code",
   "execution_count": null,
   "metadata": {
    "collapsed": true
   },
   "outputs": [],
   "source": []
  },
  {
   "cell_type": "code",
   "execution_count": null,
   "metadata": {
    "collapsed": false
   },
   "outputs": [],
   "source": [
    "for i in os.walk(os.path.join(datafolder, '20160420')):\n",
    "    print(i)"
   ]
  },
  {
   "cell_type": "code",
   "execution_count": null,
   "metadata": {
    "collapsed": false
   },
   "outputs": [],
   "source": [
    "d = pd.read_csv(os.path.join(datafolder, '20160420','20160420_bic_3.csv'), encoding='ISO8859-15')\n",
    "d['Mass44'] = d.Mass44 - 3\n",
    "d.to_csv(os.path.join(datafolder, '20160420', '20160420_bic_3b.csv'))"
   ]
  },
  {
   "cell_type": "code",
   "execution_count": null,
   "metadata": {
    "collapsed": false
   },
   "outputs": [],
   "source": [
    "\n",
    "datafile = os.path.join(datafolder, \"20160513_SAMPLE.csv\")\n",
    "\n",
    "os.path.split(datafile)"
   ]
  },
  {
   "cell_type": "markdown",
   "metadata": {
    "collapsed": false
   },
   "source": [
    "# create list of samples for chlorophylls"
   ]
  },
  {
   "cell_type": "code",
   "execution_count": null,
   "metadata": {
    "collapsed": false
   },
   "outputs": [],
   "source": [
    "import os, glob\n",
    "import pandas as pd\n",
    "\n",
    "datafolder = 'C:\\\\Users\\\\U5040252\\\\Cloudstation\\\\Projects\\\\Mass_Spec_Data\\\\2016'\n",
    "pattern=\"\"\n",
    "outputfile = os.path.join(datafolder, \"chlorophylls.csv\")\n",
    "\n",
    "\n",
    "\n",
    "# if chlorophyll file  already exists, then load csv and update it\n",
    "if os.path.isfile(outputfile):\n",
    "    mode=\"updating\"\n",
    "    chl = pd.read_csv(outputfile, encoding='ISO-8859-1')[['date','samplename','chlorophyll']]\n",
    "else:\n",
    "    mode=\"creating\"\n",
    "    chl = pd.DataFrame(columns=['date','samplename','chlorophyll'])\n",
    "\n",
    "print(mode)\n",
    "    \n",
    "    \n",
    "# main loop\n",
    "for d in glob.glob(os.path.join(datafolder, pattern + \"2*\")):\n",
    "    if os.path.isdir(d):\n",
    "        day = os.path.split(d)[1]\n",
    "        \n",
    "        samplefile = os.path.join(d, day + \"_SAMPLES.csv\")\n",
    "        print(day, samplefile, os.path.isfile(samplefile))\n",
    "        if os.path.isfile(samplefile):\n",
    "            tmp = pd.read_csv(samplefile, encoding='ISO-8859-1')[['date','samplename']]\n",
    "            tmp['chlorophyll'] = \"\"\n",
    "            \n",
    "            if day not in set(chl.date.apply(lambda x: str(x))):\n",
    "                chl = chl.append(tmp, ignore_index=True)\n",
    "    chl.to_csv(outputfile)\n",
    "                \n",
    "        \n",
    "#             if os.path.isfile(samplefile):\n",
    "#                 tmp = pd.read_csv(samplefile)\n",
    "#                 if 'date' not in master.columns:\n",
    "#                     master = tmp\n",
    "#                 elif day not in set(master.date.apply(lambda x: str(x))):\n",
    "#                     master = master.append(tmp, ignore_index=True)\n",
    "\n",
    "#             if os.path.isfile(samplefile_cleaned):\n",
    "#                 tmp2 = pd.read_csv(samplefile_cleaned)\n",
    "#                 tmp2['day'] = str(day)\n",
    "#                 if 'day' not in master_cleaned.columns:\n",
    "#                     master_cleaned = tmp2\n",
    "\n",
    "#                 elif day not in set(master_cleaned.day.apply(lambda x: str(x))):\n",
    "#                     master_cleaned = master_cleaned.append(tmp2, ignore_index=True)\n",
    "\n",
    "#     master.reset_index()\n",
    "#     master.to_csv(master_samplefile, index=False)\n",
    "\n",
    "#     master_cleaned.reset_index()\n",
    "#     master_cleaned.to_csv(master_samplefile_cleaned, index=False)\n"
   ]
  },
  {
   "cell_type": "code",
   "execution_count": null,
   "metadata": {
    "collapsed": false
   },
   "outputs": [],
   "source": [
    "tmp"
   ]
  },
  {
   "cell_type": "code",
   "execution_count": null,
   "metadata": {
    "collapsed": false
   },
   "outputs": [],
   "source": [
    "chl"
   ]
  },
  {
   "cell_type": "code",
   "execution_count": null,
   "metadata": {
    "collapsed": false
   },
   "outputs": [],
   "source": [
    "# Merging samples with chlorophyll\n",
    "day='20160510'\n",
    "datafolder = \"C:\\\\Users\\\\u5040252\\\\CloudStation\\\\Projects\\\\Mass_Spec_Data\\\\2016\\\\\"\n",
    "chlorofile = os.path.join(datafolder, \"chlorophylls.csv\")\n",
    "samplefile =  os.path.join(datafolder, day, day + \"_SAMPLES.csv\")\n",
    "\n",
    "chl = pd.read_csv(chlorofile, index_col=0, encoding='ISO-8859-1')[['date','samplename','chlorophyll']]\n",
    "samples = pd.read_csv(samplefile, encoding='ISO-8859-1')\n"
   ]
  },
  {
   "cell_type": "code",
   "execution_count": null,
   "metadata": {
    "collapsed": false
   },
   "outputs": [],
   "source": [
    "samples = samples.merge(chl, on=['date','samplename'], how='left')\n",
    "samples"
   ]
  },
  {
   "cell_type": "code",
   "execution_count": null,
   "metadata": {
    "collapsed": false
   },
   "outputs": [],
   "source": [
    "s = \"wt_highCO2_fresh\"\n",
    "import re\n",
    "\n",
    "samples['BIC'] = 0\n",
    "samples['CELLS'] = 0\n",
    "samples['AZ'] = 0\n",
    "samples['EZ'] = 0\n",
    "\n",
    "\n",
    "for s in set(samples.samplename):\n",
    "\n",
    "    f = samples.loc[samples.samplename == s,\"filename\"].values[0]\n",
    "\n",
    "    datafile = os.path.join(datafolder, day, f)\n",
    "    data = pd.read_csv(datafile, encoding='ISO-8859-1')\n",
    "\n",
    "    # parse events\n",
    "    for r in data.loc[data.eventtype.notnull(),[\"time2\", \"eventtype\", \"eventdetails\"]].iterrows():\n",
    "        r = r[1]\n",
    "\n",
    "        if r['eventtype'] in [\"BIC\",\"CELLS\",\"AZ\",\"EZ\"]:\n",
    "#             print(s, r['eventtype'], re.search(\"[0-9]+\", r[\"eventdetails\"]).group())\n",
    "            samples.loc[samples.samplename==s, r['eventtype']] = float(re.search(\"[0-9]+\", r[\"eventdetails\"]).group())\n",
    "\n",
    "    \n",
    "    # calculate final chlorophyll content \n",
    "    samples['chloro_final'] = samples.CELLS / samples.cuvette * samples.chlorophyll\n",
    "    samples.chloro_final = samples.chloro_final.apply(lambda x:round(x, 2))\n",
    "\n",
    "samples.transpose()\n",
    "\n",
    "        \n",
    "        "
   ]
  },
  {
   "cell_type": "code",
   "execution_count": 4,
   "metadata": {
    "collapsed": false
   },
   "outputs": [
    {
     "data": {
      "text/plain": [
       "('chorophylls', '.csv')"
      ]
     },
     "execution_count": 4,
     "metadata": {},
     "output_type": "execute_result"
    }
   ],
   "source": [
    "os.path.splitext('chorophylls.csv')"
   ]
  },
  {
   "cell_type": "code",
   "execution_count": 81,
   "metadata": {
    "collapsed": false
   },
   "outputs": [],
   "source": []
  },
  {
   "cell_type": "code",
   "execution_count": 82,
   "metadata": {
    "collapsed": false
   },
   "outputs": [
    {
     "name": "stdout",
     "output_type": "stream",
     "text": [
      "20160506\n",
      "20160509\n",
      "20160510\n",
      "20160511\n",
      "20160512\n",
      "20160513\n",
      "20160518\n",
      "20160519\n",
      "   logE49\n",
      "   cc125m_HighCO2_Na_Na_fresh,cc125m_HighCO2_Na_noNa_fresh,cc125m_HighCO2_noNa_Na_fresh,cc125m_HighCO2_noNa_noNa_fresh\n",
      "   Na-noNa/all\n",
      "   enrichrate49\n",
      "   cc125m_HighCO2_Na_Na_fresh,cc125m_HighCO2_Na_noNa_fresh,cc125m_HighCO2_noNa_Na_fresh,cc125m_HighCO2_noNa_noNa_fresh\n",
      "   Na-noNa/all\n",
      "   logE49\n",
      "   cc125m_HighCO2_Na_Na_old,cc125m_HighCO2_Na_noNa_old,cc125m_HighCO2_noNa_Na_old,cc125m_HighCO2_noNa_noNa_old\n",
      "   Na-noNa/all\n",
      "   enrichrate49\n",
      "   cc125m_HighCO2_Na_Na_old,cc125m_HighCO2_Na_noNa_old,cc125m_HighCO2_noNa_Na_old,cc125m_HighCO2_noNa_noNa_old\n",
      "   Na-noNa/all\n",
      "   logE49\n",
      "   cc125m_HighCO2_Na_Na_fresh_2,cc125m_HighCO2_Na_noNa_fresh_2,cc125m_HighCO2_noNa_Na_fresh_2,cc125m_HighCO2_noNa_noNa_fresh_2\n",
      "   Na-noNa/all\n",
      "   enrichrate49\n",
      "   cc125m_HighCO2_Na_Na_fresh_2,cc125m_HighCO2_Na_noNa_fresh_2,cc125m_HighCO2_noNa_Na_fresh_2,cc125m_HighCO2_noNa_noNa_fresh_2\n",
      "   Na-noNa/all\n",
      "   logE49\n",
      "   cc125m_HighCO2_Na_Na_old_2,cc125m_HighCO2_Na_noNa_old_2,cc125m_HighCO2_noNa_Na_old_2,cc125m_HighCO2_noNa_noNa_old_2\n",
      "   Na-noNa/all\n",
      "   enrichrate49\n",
      "   cc125m_HighCO2_Na_Na_old_2,cc125m_HighCO2_Na_noNa_old_2,cc125m_HighCO2_noNa_Na_old_2,cc125m_HighCO2_noNa_noNa_old_2\n",
      "   Na-noNa/all\n",
      "   enrichrate49\n",
      "   cc125m_HighCO2_Na_Na_fresh,cc125m_HighCO2_Na_Na_old,cc125m_HighCO2_Na_Na_fresh_2,cc125m_HighCO2_Na_Na_old_2\n",
      "   Fresh-old\n",
      "   logE49\n",
      "   cc125m_HighCO2_Na_Na_fresh,cc125m_HighCO2_Na_Na_old,cc125m_HighCO2_Na_Na_fresh_2,cc125m_HighCO2_Na_Na_old_2\n",
      "   Fresh-old\n",
      "   enrichrate49\n",
      "   cc125m_HighCO2_noNa_noNa_fresh,cc125m_HighCO2_noNa_noNa_old,cc125m_HighCO2_noNa_noNa_fresh_2,cc125m_HighCO2_noNa_noNa_old_2\n",
      "   Fresh-old\n",
      "   logE49\n",
      "   cc125m_HighCO2_noNa_noNa_fresh,cc125m_HighCO2_noNa_noNa_old,cc125m_HighCO2_noNa_noNa_fresh_2,cc125m_HighCO2_noNa_noNa_old_2\n",
      "   Fresh-old\n",
      "   enrichrate49\n",
      "   cc125m_HighCO2_noNa_Na_fresh,cc125m_HighCO2_noNa_Na_old,cc125m_HighCO2_noNa_Na_fresh_2,cc125m_HighCO2_noNa_Na_old_2\n",
      "   Fresh-old\n",
      "   logE49\n",
      "   cc125m_HighCO2_noNa_Na_fresh,cc125m_HighCO2_noNa_Na_old,cc125m_HighCO2_noNa_Na_fresh_2,cc125m_HighCO2_noNa_Na_old_2\n",
      "   Fresh-old\n",
      "   enrichrate49\n",
      "   cc125m_HighCO2_Na_noNa_fresh,cc125m_HighCO2_Na_noNa_old,cc125m_HighCO2_Na_noNa_fresh_2,cc125m_HighCO2_Na_noNa_old_2\n",
      "   Fresh-old\n",
      "   logE49\n",
      "   cc125m_HighCO2_Na_noNa_fresh,cc125m_HighCO2_Na_noNa_old,cc125m_HighCO2_Na_noNa_fresh_2,cc125m_HighCO2_Na_noNa_old_2\n",
      "   Fresh-old\n",
      "20160520\n",
      "20160525\n",
      "20160526\n",
      "20160527\n",
      "   logE49\n",
      "   pmp1-16-5k_fresh,pmp1-16-5k_old\n",
      "   aging/pmp1-16-5k/highCO2\n",
      "   logE49\n",
      "   pmp1-16-5k_air4h_fresh,pmp1-16-5k_air4h_old\n",
      "   aging/pmp1-16-5k/air4h\n",
      "   logE49\n",
      "   cc4156_fresh,cc4156_old\n",
      "   aging/cc4156/highCO2\n",
      "   logE49\n",
      "   cc4156_air4h_fresh,cc4156_air4h_old\n",
      "   aging/cc4156/air4h\n",
      "   logE49\n",
      "   cc1860_fresh,cc1860_old\n",
      "   aging/cc1860/highCO2\n",
      "   logE49\n",
      "   cc1860_air4h_fresh,cc1860_air4h_old\n",
      "   aging/cc1860/air4h\n",
      "   logE49\n",
      "   cc125m_fresh,cc125m_old\n",
      "   aging/cc125m/highCO2\n",
      "   logE49\n",
      "   cc125m_air4h_fresh,cc125m_air4h_old\n",
      "   aging/cc125m/air4h\n",
      "   logE49\n",
      "   cc124c_air4h_fresh,cc124c_air4h_old\n",
      "   aging/cc124c/air4h\n",
      "   logE49\n",
      "   137ah_air4h_fresh,137ah_air4h_old\n",
      "   aging/137ah/air4h\n",
      "   logE49\n",
      "   137ah_air4h_fresh,cc124c_air4h_fresh,cc125m_air4h_fresh\n",
      "   wt/air4h\n",
      "   logE49\n",
      "   137ah_air4h_old,cc124c_air4h_old,cc125m_air4h_old\n",
      "   wt/air4h\n",
      "   logE49\n",
      "   pmp1-16-5k_fresh,cc4156_fresh,cc1860_fresh\n",
      "   lcib/highCO2\n",
      "   logE49\n",
      "   pmp1-16-5k_old,cc4156_old,cc1860_old\n",
      "   lcib/highCO2\n",
      "   logE49\n",
      "   pmp1-16-5k_air4h_fresh,cc4156_air4h_fresh,cc1860_air4h_fresh\n",
      "   lcib/air4h\n",
      "   logE49\n",
      "   pmp1-16-5k_air4h_old,cc4156_air4h_old,cc1860_air4h_old\n",
      "   lcib/air4h\n"
     ]
    }
   ],
   "source": [
    "\n",
    "                \n",
    "            "
   ]
  },
  {
   "cell_type": "code",
   "execution_count": 71,
   "metadata": {
    "collapsed": false
   },
   "outputs": [
    {
     "data": {
      "text/html": [
       "<div>\n",
       "<table border=\"1\" class=\"dataframe\">\n",
       "  <thead>\n",
       "    <tr style=\"text-align: right;\">\n",
       "      <th></th>\n",
       "      <th>type</th>\n",
       "      <th>day</th>\n",
       "      <th>what</th>\n",
       "      <th>which</th>\n",
       "      <th>subfolder</th>\n",
       "    </tr>\n",
       "  </thead>\n",
       "  <tbody>\n",
       "    <tr>\n",
       "      <th>17</th>\n",
       "      <td>compiled</td>\n",
       "      <td>20160527</td>\n",
       "      <td>logE49</td>\n",
       "      <td>pmp1-16-5k_fresh,pmp1-16-5k_old</td>\n",
       "      <td>aging/pmp1-16-5k/highCO2</td>\n",
       "    </tr>\n",
       "    <tr>\n",
       "      <th>18</th>\n",
       "      <td>compiled</td>\n",
       "      <td>20160527</td>\n",
       "      <td>logE49</td>\n",
       "      <td>pmp1-16-5k_air4h_fresh,pmp1-16-5k_air4h_old</td>\n",
       "      <td>aging/pmp1-16-5k/air4h</td>\n",
       "    </tr>\n",
       "    <tr>\n",
       "      <th>19</th>\n",
       "      <td>compiled</td>\n",
       "      <td>20160527</td>\n",
       "      <td>logE49</td>\n",
       "      <td>cc4156_fresh,cc4156_old</td>\n",
       "      <td>aging/cc4156/highCO2</td>\n",
       "    </tr>\n",
       "    <tr>\n",
       "      <th>20</th>\n",
       "      <td>compiled</td>\n",
       "      <td>20160527</td>\n",
       "      <td>logE49</td>\n",
       "      <td>cc4156_air4h_fresh,cc4156_air4h_old</td>\n",
       "      <td>aging/cc4156/air4h</td>\n",
       "    </tr>\n",
       "    <tr>\n",
       "      <th>21</th>\n",
       "      <td>compiled</td>\n",
       "      <td>20160527</td>\n",
       "      <td>logE49</td>\n",
       "      <td>cc1860_fresh,cc1860_old</td>\n",
       "      <td>aging/cc1860/highCO2</td>\n",
       "    </tr>\n",
       "    <tr>\n",
       "      <th>22</th>\n",
       "      <td>compiled</td>\n",
       "      <td>20160527</td>\n",
       "      <td>logE49</td>\n",
       "      <td>cc1860_air4h_fresh,cc1860_air4h_old</td>\n",
       "      <td>aging/cc1860/air4h</td>\n",
       "    </tr>\n",
       "    <tr>\n",
       "      <th>23</th>\n",
       "      <td>compiled</td>\n",
       "      <td>20160527</td>\n",
       "      <td>logE49</td>\n",
       "      <td>cc125m_fresh,cc125m_old</td>\n",
       "      <td>aging/cc125m/highCO2</td>\n",
       "    </tr>\n",
       "    <tr>\n",
       "      <th>24</th>\n",
       "      <td>compiled</td>\n",
       "      <td>20160527</td>\n",
       "      <td>logE49</td>\n",
       "      <td>cc125m_air4h_fresh,cc125m_air4h_old</td>\n",
       "      <td>aging/cc125m/air4h</td>\n",
       "    </tr>\n",
       "    <tr>\n",
       "      <th>25</th>\n",
       "      <td>compiled</td>\n",
       "      <td>20160527</td>\n",
       "      <td>logE49</td>\n",
       "      <td>cc124c_air4h_fresh,cc124c_air4h_old</td>\n",
       "      <td>aging/cc124c/air4h</td>\n",
       "    </tr>\n",
       "    <tr>\n",
       "      <th>26</th>\n",
       "      <td>compiled</td>\n",
       "      <td>20160527</td>\n",
       "      <td>logE49</td>\n",
       "      <td>137ah_air4h_fresh,137ah_air4h_old</td>\n",
       "      <td>aging/137ah/air4h</td>\n",
       "    </tr>\n",
       "    <tr>\n",
       "      <th>27</th>\n",
       "      <td>compiled</td>\n",
       "      <td>20160527</td>\n",
       "      <td>logE49</td>\n",
       "      <td>137ah_air4h_fresh,cc124c_air4h_fresh,cc125m_ai...</td>\n",
       "      <td>wt/air4h</td>\n",
       "    </tr>\n",
       "    <tr>\n",
       "      <th>28</th>\n",
       "      <td>compiled</td>\n",
       "      <td>20160527</td>\n",
       "      <td>logE49</td>\n",
       "      <td>137ah_air4h_old,cc124c_air4h_old,cc125m_air4h_old</td>\n",
       "      <td>wt/air4h</td>\n",
       "    </tr>\n",
       "    <tr>\n",
       "      <th>29</th>\n",
       "      <td>compiled</td>\n",
       "      <td>20160527</td>\n",
       "      <td>logE49</td>\n",
       "      <td>pmp1-16-5k_fresh,cc4156_fresh,cc1860_fresh</td>\n",
       "      <td>lcib/highCO2</td>\n",
       "    </tr>\n",
       "    <tr>\n",
       "      <th>30</th>\n",
       "      <td>compiled</td>\n",
       "      <td>20160527</td>\n",
       "      <td>logE49</td>\n",
       "      <td>pmp1-16-5k_old,cc4156_old,cc1860_old</td>\n",
       "      <td>lcib/highCO2</td>\n",
       "    </tr>\n",
       "    <tr>\n",
       "      <th>31</th>\n",
       "      <td>compiled</td>\n",
       "      <td>20160527</td>\n",
       "      <td>logE49</td>\n",
       "      <td>pmp1-16-5k_air4h_fresh,cc4156_air4h_fresh,cc18...</td>\n",
       "      <td>lcib/air4h</td>\n",
       "    </tr>\n",
       "    <tr>\n",
       "      <th>32</th>\n",
       "      <td>compiled</td>\n",
       "      <td>20160527</td>\n",
       "      <td>logE49</td>\n",
       "      <td>pmp1-16-5k_air4h_old,cc4156_air4h_old,cc1860_a...</td>\n",
       "      <td>lcib/air4h</td>\n",
       "    </tr>\n",
       "  </tbody>\n",
       "</table>\n",
       "</div>"
      ],
      "text/plain": [
       "        type       day    what  \\\n",
       "17  compiled  20160527  logE49   \n",
       "18  compiled  20160527  logE49   \n",
       "19  compiled  20160527  logE49   \n",
       "20  compiled  20160527  logE49   \n",
       "21  compiled  20160527  logE49   \n",
       "22  compiled  20160527  logE49   \n",
       "23  compiled  20160527  logE49   \n",
       "24  compiled  20160527  logE49   \n",
       "25  compiled  20160527  logE49   \n",
       "26  compiled  20160527  logE49   \n",
       "27  compiled  20160527  logE49   \n",
       "28  compiled  20160527  logE49   \n",
       "29  compiled  20160527  logE49   \n",
       "30  compiled  20160527  logE49   \n",
       "31  compiled  20160527  logE49   \n",
       "32  compiled  20160527  logE49   \n",
       "\n",
       "                                                which  \\\n",
       "17                    pmp1-16-5k_fresh,pmp1-16-5k_old   \n",
       "18        pmp1-16-5k_air4h_fresh,pmp1-16-5k_air4h_old   \n",
       "19                            cc4156_fresh,cc4156_old   \n",
       "20                cc4156_air4h_fresh,cc4156_air4h_old   \n",
       "21                            cc1860_fresh,cc1860_old   \n",
       "22                cc1860_air4h_fresh,cc1860_air4h_old   \n",
       "23                            cc125m_fresh,cc125m_old   \n",
       "24                cc125m_air4h_fresh,cc125m_air4h_old   \n",
       "25                cc124c_air4h_fresh,cc124c_air4h_old   \n",
       "26                  137ah_air4h_fresh,137ah_air4h_old   \n",
       "27  137ah_air4h_fresh,cc124c_air4h_fresh,cc125m_ai...   \n",
       "28  137ah_air4h_old,cc124c_air4h_old,cc125m_air4h_old   \n",
       "29         pmp1-16-5k_fresh,cc4156_fresh,cc1860_fresh   \n",
       "30               pmp1-16-5k_old,cc4156_old,cc1860_old   \n",
       "31  pmp1-16-5k_air4h_fresh,cc4156_air4h_fresh,cc18...   \n",
       "32  pmp1-16-5k_air4h_old,cc4156_air4h_old,cc1860_a...   \n",
       "\n",
       "                   subfolder  \n",
       "17  aging/pmp1-16-5k/highCO2  \n",
       "18    aging/pmp1-16-5k/air4h  \n",
       "19      aging/cc4156/highCO2  \n",
       "20        aging/cc4156/air4h  \n",
       "21      aging/cc1860/highCO2  \n",
       "22        aging/cc1860/air4h  \n",
       "23      aging/cc125m/highCO2  \n",
       "24        aging/cc125m/air4h  \n",
       "25        aging/cc124c/air4h  \n",
       "26         aging/137ah/air4h  \n",
       "27                  wt/air4h  \n",
       "28                  wt/air4h  \n",
       "29              lcib/highCO2  \n",
       "30              lcib/highCO2  \n",
       "31                lcib/air4h  \n",
       "32                lcib/air4h  "
      ]
     },
     "execution_count": 71,
     "metadata": {},
     "output_type": "execute_result"
    }
   ],
   "source": [
    "figs.loc[figs.day == day,:]"
   ]
  },
  {
   "cell_type": "code",
   "execution_count": 72,
   "metadata": {
    "collapsed": false
   },
   "outputs": [
    {
     "data": {
      "text/plain": [
       "0     20160519\n",
       "1     20160519\n",
       "2     20160519\n",
       "3     20160519\n",
       "4     20160519\n",
       "5     20160519\n",
       "6     20160519\n",
       "7     20160519\n",
       "9     20160519\n",
       "10    20160519\n",
       "11    20160519\n",
       "12    20160519\n",
       "13    20160519\n",
       "14    20160519\n",
       "15    20160519\n",
       "16    20160519\n",
       "17    20160527\n",
       "18    20160527\n",
       "19    20160527\n",
       "20    20160527\n",
       "21    20160527\n",
       "22    20160527\n",
       "23    20160527\n",
       "24    20160527\n",
       "25    20160527\n",
       "26    20160527\n",
       "27    20160527\n",
       "28    20160527\n",
       "29    20160527\n",
       "30    20160527\n",
       "31    20160527\n",
       "32    20160527\n",
       "Name: day, dtype: object"
      ]
     },
     "execution_count": 72,
     "metadata": {},
     "output_type": "execute_result"
    }
   ],
   "source": []
  },
  {
   "cell_type": "code",
   "execution_count": null,
   "metadata": {
    "collapsed": true
   },
   "outputs": [],
   "source": []
  }
 ],
 "metadata": {
  "kernelspec": {
   "display_name": "Python 3",
   "language": "python",
   "name": "python3"
  },
  "language_info": {
   "codemirror_mode": {
    "name": "ipython",
    "version": 3
   },
   "file_extension": ".py",
   "mimetype": "text/x-python",
   "name": "python",
   "nbconvert_exporter": "python",
   "pygments_lexer": "ipython3",
   "version": "3.5.1"
  }
 },
 "nbformat": 4,
 "nbformat_minor": 0
}
