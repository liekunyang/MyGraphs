{
 "cells": [
  {
   "cell_type": "markdown",
   "metadata": {},
   "source": [
    "# Import libraries"
   ]
  },
  {
   "cell_type": "code",
   "execution_count": 6,
   "metadata": {
    "collapsed": false
   },
   "outputs": [],
   "source": [
    "import sys\n",
    "myFunctionsFolder = \"C:\\\\Users\\\\u5040252\\\\CloudStation\\\\Dropbox\\\\data Vincent\\\\Python\\\\myFunctions\\\\\"\n",
    "if not  myFunctionsFolder in sys.path:\n",
    "    sys.path.append(myFunctionsFolder)\n",
    "    \n",
    "\n",
    "\n",
    "    \n",
    "# from denoising import denoise_df, rolling_linear_reg, myround\n",
    "from MyGraphs import *\n",
    "import pandas as pd\n",
    "import time\n",
    "import os\n",
    "import glob\n",
    "from  collections import *\n",
    "\n",
    "% matplotlib inline"
   ]
  },
  {
   "cell_type": "markdown",
   "metadata": {},
   "source": [
    "# Folders and files variables"
   ]
  },
  {
   "cell_type": "code",
   "execution_count": 7,
   "metadata": {
    "collapsed": true
   },
   "outputs": [],
   "source": [
    "datafolder = \"C:\\\\Users\\\\U5040252\\\\Cloudstation\\\\Projects\\\\Mass_Spec_Data\\\\2016\\\\\"\n",
    "pattern = '20160519'  #date pattern. Examples: '2016', '201601', '20160331'"
   ]
  },
  {
   "cell_type": "markdown",
   "metadata": {},
   "source": [
    "# Create individual graphs"
   ]
  },
  {
   "cell_type": "code",
   "execution_count": 3,
   "metadata": {
    "collapsed": false,
    "scrolled": true
   },
   "outputs": [
    {
     "name": "stdout",
     "output_type": "stream",
     "text": [
      "\n",
      "20160519\n",
      "   cc125m_HighCO2_Na_Na_fresh_2 ['d49dt']\n",
      "   cc125m_HighCO2_noNa_Na_fresh ['d49dt']\n",
      "   cc125m_HighCO2_noNa_Na_fresh_2 ['d49dt']\n",
      "   cc125m_HighCO2_Na_Na_fresh ['d49dt']\n",
      "   cc125m_HighCO2_Na_noNa_fresh ['d49dt']\n",
      "   yeast_hCA_noNa ['d49dt']\n",
      "   cc125m_HighCO2_noNa_noNa_old_2 ['d49dt']\n",
      "   yeast_25_noNa ['d49dt']\n",
      "   yeast_26_noNa_3 ['d49dt']\n",
      "   cc125m_HighCO2_noNa_Na_old_2 ['d49dt']\n",
      "   yeast_hCA_noNa_3 ['d49dt']\n",
      "   yeast_26_Na ['d49dt']\n",
      "   cc125m_HighCO2_noNa_noNa_old ['d49dt']\n",
      "   cc125m_HighCO2_Na_Na_old_2 ['d49dt']\n",
      "   cc125m_HighCO2_Na_noNa_fresh_2 ['d49dt']\n",
      "   yeast_hCA_noNa_2 ['d49dt']\n",
      "   yeast_23_noNa ['d49dt']\n",
      "   cc125m_HighCO2_noNa_Na_old ['d49dt']\n",
      "   cc125m_HighCO2_Na_Na_old ['d49dt']\n",
      "   cc125m_HighCO2_noNa_noNa_fresh_2 ['d49dt']\n",
      "   cc125m_HighCO2_Na_noNa_old ['d49dt']\n",
      "   yeast_hCA_Na ['d49dt']\n",
      "   cc125m_HighCO2_noNa_noNa_fresh ['d49dt']\n",
      "   yeast_26_noNa ['d49dt']\n",
      "   cc125m_HighCO2_Na_noNa_old_2 ['d49dt']\n",
      "   yeast_tCA_noNa ['d49dt']\n",
      "   yeast_26_noNa_2 ['d49dt']\n",
      "   cc125m_HighCO2_Na_Na_fresh_2 ['enrichrate49']\n",
      "   cc125m_HighCO2_noNa_Na_fresh ['enrichrate49']\n",
      "   cc125m_HighCO2_noNa_Na_fresh_2 ['enrichrate49']\n",
      "   cc125m_HighCO2_Na_Na_fresh ['enrichrate49']\n",
      "   cc125m_HighCO2_Na_noNa_fresh ['enrichrate49']\n",
      "   yeast_hCA_noNa ['enrichrate49']\n",
      "   cc125m_HighCO2_noNa_noNa_old_2 ['enrichrate49']\n",
      "   yeast_25_noNa ['enrichrate49']\n",
      "   yeast_26_noNa_3 ['enrichrate49']\n",
      "   cc125m_HighCO2_noNa_Na_old_2 ['enrichrate49']\n",
      "   yeast_hCA_noNa_3 ['enrichrate49']\n",
      "   yeast_26_Na ['enrichrate49']\n",
      "   cc125m_HighCO2_noNa_noNa_old ['enrichrate49']\n",
      "   cc125m_HighCO2_Na_Na_old_2 ['enrichrate49']\n",
      "   cc125m_HighCO2_Na_noNa_fresh_2 ['enrichrate49']\n",
      "   yeast_hCA_noNa_2 ['enrichrate49']\n",
      "   yeast_23_noNa ['enrichrate49']\n",
      "   cc125m_HighCO2_noNa_Na_old ['enrichrate49']\n",
      "   cc125m_HighCO2_Na_Na_old ['enrichrate49']\n",
      "   cc125m_HighCO2_noNa_noNa_fresh_2 ['enrichrate49']\n",
      "   cc125m_HighCO2_Na_noNa_old ['enrichrate49']\n",
      "   yeast_hCA_Na ['enrichrate49']\n",
      "   cc125m_HighCO2_noNa_noNa_fresh ['enrichrate49']\n",
      "   yeast_26_noNa ['enrichrate49']\n",
      "   cc125m_HighCO2_Na_noNa_old_2 ['enrichrate49']\n",
      "   yeast_tCA_noNa ['enrichrate49']\n",
      "   yeast_26_noNa_2 ['enrichrate49']\n",
      "   cc125m_HighCO2_Na_Na_fresh_2 ['logE49']\n",
      "   cc125m_HighCO2_noNa_Na_fresh ['logE49']\n",
      "   cc125m_HighCO2_noNa_Na_fresh_2 ['logE49']\n",
      "   cc125m_HighCO2_Na_Na_fresh ['logE49']\n",
      "   cc125m_HighCO2_Na_noNa_fresh ['logE49']\n",
      "   yeast_hCA_noNa ['logE49']\n",
      "   cc125m_HighCO2_noNa_noNa_old_2 ['logE49']\n",
      "   yeast_25_noNa ['logE49']\n",
      "   yeast_26_noNa_3 ['logE49']\n",
      "   cc125m_HighCO2_noNa_Na_old_2 ['logE49']\n",
      "   yeast_hCA_noNa_3 ['logE49']\n",
      "   yeast_26_Na ['logE49']\n",
      "   cc125m_HighCO2_noNa_noNa_old ['logE49']\n",
      "   cc125m_HighCO2_Na_Na_old_2 ['logE49']\n",
      "   cc125m_HighCO2_Na_noNa_fresh_2 ['logE49']\n",
      "   yeast_hCA_noNa_2 ['logE49']\n",
      "   yeast_23_noNa ['logE49']\n",
      "   cc125m_HighCO2_noNa_Na_old ['logE49']\n",
      "   cc125m_HighCO2_Na_Na_old ['logE49']\n",
      "   cc125m_HighCO2_noNa_noNa_fresh_2 ['logE49']\n",
      "   cc125m_HighCO2_Na_noNa_old ['logE49']\n",
      "   yeast_hCA_Na ['logE49']\n",
      "   cc125m_HighCO2_noNa_noNa_fresh ['logE49']\n",
      "   yeast_26_noNa ['logE49']\n",
      "   cc125m_HighCO2_Na_noNa_old_2 ['logE49']\n",
      "   yeast_tCA_noNa ['logE49']\n",
      "   yeast_26_noNa_2 ['logE49']\n",
      "   cc125m_HighCO2_Na_Na_fresh_2 ['Mass45', 'Mass47', 'Mass49', 'Mass44', 'totalCO2']\n",
      "   cc125m_HighCO2_noNa_Na_fresh ['Mass45', 'Mass47', 'Mass49', 'Mass44', 'totalCO2']\n",
      "   cc125m_HighCO2_noNa_Na_fresh_2 ['Mass45', 'Mass47', 'Mass49', 'Mass44', 'totalCO2']\n",
      "   cc125m_HighCO2_Na_Na_fresh ['Mass45', 'Mass47', 'Mass49', 'Mass44', 'totalCO2']\n",
      "   cc125m_HighCO2_Na_noNa_fresh ['Mass45', 'Mass47', 'Mass49', 'Mass44', 'totalCO2']\n",
      "   yeast_hCA_noNa ['Mass45', 'Mass47', 'Mass49', 'Mass44', 'totalCO2']\n",
      "   cc125m_HighCO2_noNa_noNa_old_2 ['Mass45', 'Mass47', 'Mass49', 'Mass44', 'totalCO2']\n",
      "   yeast_25_noNa ['Mass45', 'Mass47', 'Mass49', 'Mass44', 'totalCO2']\n",
      "   yeast_26_noNa_3 ['Mass45', 'Mass47', 'Mass49', 'Mass44', 'totalCO2']\n",
      "   cc125m_HighCO2_noNa_Na_old_2 ['Mass45', 'Mass47', 'Mass49', 'Mass44', 'totalCO2']\n",
      "   yeast_hCA_noNa_3 ['Mass45', 'Mass47', 'Mass49', 'Mass44', 'totalCO2']\n",
      "   yeast_26_Na ['Mass45', 'Mass47', 'Mass49', 'Mass44', 'totalCO2']\n",
      "   cc125m_HighCO2_noNa_noNa_old ['Mass45', 'Mass47', 'Mass49', 'Mass44', 'totalCO2']\n",
      "   cc125m_HighCO2_Na_Na_old_2 ['Mass45', 'Mass47', 'Mass49', 'Mass44', 'totalCO2']\n",
      "   cc125m_HighCO2_Na_noNa_fresh_2 ['Mass45', 'Mass47', 'Mass49', 'Mass44', 'totalCO2']\n",
      "   yeast_hCA_noNa_2 ['Mass45', 'Mass47', 'Mass49', 'Mass44', 'totalCO2']\n",
      "   yeast_23_noNa ['Mass45', 'Mass47', 'Mass49', 'Mass44', 'totalCO2']\n",
      "   cc125m_HighCO2_noNa_Na_old ['Mass45', 'Mass47', 'Mass49', 'Mass44', 'totalCO2']\n",
      "   cc125m_HighCO2_Na_Na_old ['Mass45', 'Mass47', 'Mass49', 'Mass44', 'totalCO2']\n",
      "   cc125m_HighCO2_noNa_noNa_fresh_2 ['Mass45', 'Mass47', 'Mass49', 'Mass44', 'totalCO2']\n",
      "   cc125m_HighCO2_Na_noNa_old ['Mass45', 'Mass47', 'Mass49', 'Mass44', 'totalCO2']\n",
      "   yeast_hCA_Na ['Mass45', 'Mass47', 'Mass49', 'Mass44', 'totalCO2']\n",
      "   cc125m_HighCO2_noNa_noNa_fresh ['Mass45', 'Mass47', 'Mass49', 'Mass44', 'totalCO2']\n",
      "   yeast_26_noNa ['Mass45', 'Mass47', 'Mass49', 'Mass44', 'totalCO2']\n",
      "   cc125m_HighCO2_Na_noNa_old_2 ['Mass45', 'Mass47', 'Mass49', 'Mass44', 'totalCO2']\n",
      "   yeast_tCA_noNa ['Mass45', 'Mass47', 'Mass49', 'Mass44', 'totalCO2']\n",
      "   yeast_26_noNa_2 ['Mass45', 'Mass47', 'Mass49', 'Mass44', 'totalCO2']\n"
     ]
    },
    {
     "name": "stderr",
     "output_type": "stream",
     "text": [
      "C:\\Anaconda3\\lib\\site-packages\\pandas\\core\\index.py:6154: RuntimeWarning: unorderable types: str() < int(), sort order is undefined for incomparable objects\n",
      "  result = result.union(other)\n"
     ]
    }
   ],
   "source": [
    "for d in glob.glob(os.path.join(datafolder, pattern + \"*\")):\n",
    "    if os.path.isdir(d):\n",
    "        day = d.split(\"\\\\\")[-1]\n",
    "        print('')\n",
    "        print(day)\n",
    "        \n",
    "        myg = MyGraphs(datafolder, day)\n",
    "        \n",
    "        # config\n",
    "        myg.linewidth = 2.0\n",
    "        myg.figformat = 'jpg'\n",
    "        myg.dpi = 300\n",
    "        myg.figWidth = 12\n",
    "        myg.figHeight = 9\n",
    "        myg.annotate = True\n",
    "        myg.legend = True\n",
    "#         myg.ymin=-0.4\n",
    "#         myg.ymax = 0.02\n",
    "        myg.title = True\n",
    "    \n",
    "\n",
    "        # individual graphs\n",
    "        myg.individual_graphs(['d49dt'], show_noisy=True, show_denoised=False)        \n",
    "        myg.individual_graphs(['enrichrate49'], show_noisy=False, show_denoised=True)\n",
    "        myg.individual_graphs(['logE49'], show_noisy=True, show_denoised=False)\n",
    "        myg.individual_graphs(['Mass45', 'Mass47', 'Mass49', 'Mass44', 'totalCO2'], show_noisy=False, show_denoised=True)\n",
    "        \n",
    "        # fluxes        \n",
    "#         myg.flux(\"CELLS\")\n",
    "#         myg.flux(\"LIGHT ON\")\n",
    "#         myg.flux(\"LIGHT OFF\")\n",
    "        \n",
    "\n"
   ]
  },
  {
   "cell_type": "markdown",
   "metadata": {},
   "source": [
    "# Create compiled graphs"
   ]
  },
  {
   "cell_type": "code",
   "execution_count": 1,
   "metadata": {
    "collapsed": false
   },
   "outputs": [
    {
     "ename": "NameError",
     "evalue": "name 'glob' is not defined",
     "output_type": "error",
     "traceback": [
      "\u001b[1;31m---------------------------------------------------------------------------\u001b[0m",
      "\u001b[1;31mNameError\u001b[0m                                 Traceback (most recent call last)",
      "\u001b[1;32m<ipython-input-1-4cf4e6057b81>\u001b[0m in \u001b[0;36m<module>\u001b[1;34m()\u001b[0m\n\u001b[0;32m      1\u001b[0m \u001b[0mpattern\u001b[0m \u001b[1;33m=\u001b[0m \u001b[1;34m'20160519'\u001b[0m  \u001b[1;31m#date pattern. Examples: '2016', '201601', '20160331'\u001b[0m\u001b[1;33m\u001b[0m\u001b[0m\n\u001b[1;32m----> 2\u001b[1;33m \u001b[1;32mfor\u001b[0m \u001b[0md\u001b[0m \u001b[1;32min\u001b[0m \u001b[0mglob\u001b[0m\u001b[1;33m.\u001b[0m\u001b[0mglob\u001b[0m\u001b[1;33m(\u001b[0m\u001b[0mos\u001b[0m\u001b[1;33m.\u001b[0m\u001b[0mpath\u001b[0m\u001b[1;33m.\u001b[0m\u001b[0mjoin\u001b[0m\u001b[1;33m(\u001b[0m\u001b[0mdatafolder\u001b[0m\u001b[1;33m,\u001b[0m \u001b[0mpattern\u001b[0m \u001b[1;33m+\u001b[0m \u001b[1;34m\"*\"\u001b[0m\u001b[1;33m)\u001b[0m\u001b[1;33m)\u001b[0m\u001b[1;33m:\u001b[0m\u001b[1;33m\u001b[0m\u001b[0m\n\u001b[0m\u001b[0;32m      3\u001b[0m     \u001b[1;32mif\u001b[0m \u001b[0mos\u001b[0m\u001b[1;33m.\u001b[0m\u001b[0mpath\u001b[0m\u001b[1;33m.\u001b[0m\u001b[0misdir\u001b[0m\u001b[1;33m(\u001b[0m\u001b[0md\u001b[0m\u001b[1;33m)\u001b[0m\u001b[1;33m:\u001b[0m\u001b[1;33m\u001b[0m\u001b[0m\n\u001b[0;32m      4\u001b[0m         \u001b[0mday\u001b[0m \u001b[1;33m=\u001b[0m \u001b[0md\u001b[0m\u001b[1;33m.\u001b[0m\u001b[0msplit\u001b[0m\u001b[1;33m(\u001b[0m\u001b[1;34m\"\\\\\"\u001b[0m\u001b[1;33m)\u001b[0m\u001b[1;33m[\u001b[0m\u001b[1;33m-\u001b[0m\u001b[1;36m1\u001b[0m\u001b[1;33m]\u001b[0m\u001b[1;33m\u001b[0m\u001b[0m\n\u001b[0;32m      5\u001b[0m         \u001b[0mprint\u001b[0m\u001b[1;33m(\u001b[0m\u001b[1;34m''\u001b[0m\u001b[1;33m)\u001b[0m\u001b[1;33m\u001b[0m\u001b[0m\n",
      "\u001b[1;31mNameError\u001b[0m: name 'glob' is not defined"
     ]
    }
   ],
   "source": [
    "pattern = '20160519'  #date pattern. Examples: '2016', '201601', '20160331'\n",
    "for d in glob.glob(os.path.join(datafolder, pattern + \"*\")):\n",
    "    if os.path.isdir(d):\n",
    "        day = d.split(\"\\\\\")[-1]\n",
    "        print('')\n",
    "        print(day)\n",
    "        \n",
    "        myg = MyGraphs(datafolder, day)\n",
    "        \n",
    "        # config\n",
    "        myg.linewidth = 2.0\n",
    "        myg.figformat = 'jpg'\n",
    "        myg.dpi = 300\n",
    "        myg.figWidth = 12\n",
    "        myg.figHeight = 9\n",
    "        myg.annotate = True\n",
    "        myg.legend = True\n",
    "#         myg.ymin=0.9\n",
    "#         myg.ymax = 2\n",
    "        myg.title = True\n",
    "    \n",
    "        for what in ['logE49','d49dt','enrichrate49','d32dt_cd']:\n",
    "            \n",
    "            if day == \"20160510\":\n",
    "                \n",
    "                \n",
    "                # high CO2\n",
    "                myg.compiled_graphs(what, which=['wt_highCO2_fresh','wt_highCO2_old'], subfolder=\"highCO2/cc125m\",  show_noisy=False, show_denoised=True)\n",
    "\n",
    "                myg.compiled_graphs(what, which=['cia3_highCO2_fresh','cia3_highCO2_old'], subfolder=\"highCO2/cc2699-cia3\",  show_noisy=False, show_denoised=True)\n",
    "                myg.compiled_graphs(what, which=['wt_highCO2_fresh','cia3_highCO2_fresh'], subfolder=\"highCO2/cc2699-cia3\",  show_noisy=False, show_denoised=True)\n",
    "                myg.compiled_graphs(what, which=['wt_highCO2_old','cia3_highCO2_old'], subfolder=\"highCO2/cc2699-cia3\",  show_noisy=False, show_denoised=True)\n",
    "                \n",
    "                myg.compiled_graphs(what, which=['pmp1_highCO2_fresh','pmp1_highCO2_old'], subfolder=\"highCO2/cc1860-pmp1\",  show_noisy=False, show_denoised=True)\n",
    "                myg.compiled_graphs(what, which=['wt_highCO2_fresh','pmp1_highCO2_fresh'], subfolder=\"highCO2/cc1860-pmp1\",  show_noisy=False, show_denoised=True)\n",
    "                myg.compiled_graphs(what, which=['wt_highCO2_old','pmp1_highCO2_old'], subfolder=\"highCO2/cc1860-pmp1\",  show_noisy=False, show_denoised=True)\n",
    "                \n",
    "                myg.compiled_graphs(what, which=['cia5_highCO2_fresh','cia5_highCO2_old'], subfolder=\"highCO2/cia5\",  show_noisy=False, show_denoised=True)\n",
    "                myg.compiled_graphs(what, which=['wt_highCO2_fresh','cia5_highCO2_fresh'], subfolder=\"highCO2/cia5\",  show_noisy=False, show_denoised=True)\n",
    "                myg.compiled_graphs(what, which=['wt_highCO2_old','cia5_highCO2_old'], subfolder=\"highCO2/cia5\",  show_noisy=False, show_denoised=True)\n",
    "\n",
    "                \n",
    "                \n",
    "                #Na/noNa\n",
    "                myg.compiled_graphs(what, which=['wt_highCO2-KOH_fresh','wt_highCO2-NaOH_fresh'], subfolder=\"Na\",  show_noisy=False, show_denoised=True)\n",
    "  \n",
    "\n",
    "\n",
    "                #air5h\n",
    "                myg.compiled_graphs(what, which=['wt_air5h_fresh','wt_air5h_old'], subfolder=\"air5h/cc125m\",  show_noisy=False, show_denoised=True)\n",
    "\n",
    "                myg.compiled_graphs(what, which=['cia3_air5h_fresh','cia3_air5h_old'], subfolder=\"air5h/cc2699-cia3\",  show_noisy=False, show_denoised=True)\n",
    "                myg.compiled_graphs(what, which=['wt_air5h_fresh','cia3_air5h_fresh'], subfolder=\"air5h/cc2699-cia3\",  show_noisy=False, show_denoised=True)\n",
    "                myg.compiled_graphs(what, which=['wt_air5h_old','cia3_air5h_old'], subfolder=\"air5h/cc2699-cia3\",  show_noisy=False, show_denoised=True)\n",
    "                \n",
    "                myg.compiled_graphs(what, which=['pmp1_air5h_fresh','pmp1_air5h_old'], subfolder=\"air5h/cc1860-pmp1\",  show_noisy=False, show_denoised=True)\n",
    "                myg.compiled_graphs(what, which=['wt_air5h_fresh','pmp1_air5h_fresh'], subfolder=\"air5h/cc1860-pmp1\",  show_noisy=False, show_denoised=True)\n",
    "                myg.compiled_graphs(what, which=['wt_air5h_old','pmp1_air5h_old'], subfolder=\"air5h/cc1860-pmp1\",  show_noisy=False, show_denoised=True)\n",
    "                \n",
    "                myg.compiled_graphs(what, which=['cia5_air5h_fresh','cia5_air5h_old'], subfolder=\"air5h/cia5\",  show_noisy=False, show_denoised=True)\n",
    "                myg.compiled_graphs(what, which=['wt_air5h_fresh','cia5_air5h_fresh'], subfolder=\"air5h/cia5\",  show_noisy=False, show_denoised=True)\n",
    "                myg.compiled_graphs(what, which=['wt_air5h_old','cia5_air5h_old'], subfolder=\"air5h/cia5\",  show_noisy=False, show_denoised=True)\n",
    "\n",
    "                    \n",
    "            elif day == \"20160511\":\n",
    "                #wt\n",
    "                myg.compiled_graphs(what, which=['cc125_air_fresh','cc125_air_old'], subfolder=\"wt fresh-old\",  show_noisy=False, show_denoised=True)\n",
    "                myg.compiled_graphs(what, which=['cc125_air-noNa_fresh','cc125_air-noNa_old'], subfolder=\"wt fresh-old\",  show_noisy=False, show_denoised=True)\n",
    "                myg.compiled_graphs(what, which=['cc125_air-Na50mM_fresh','cc125_air-Na50mM_old'], subfolder=\"wt fresh-old\", show_noisy=False, show_denoised=True)\n",
    "\n",
    "                myg.compiled_graphs(what, which=['cc125_air-noNa_fresh','cc125_air-noNa_old'], subfolder=\"wt Na-noNa\",  show_noisy=False, show_denoised=True)\n",
    "                myg.compiled_graphs(what, which=['cc125_air-Na50mM_fresh','cc125_air-Na50mM_old'], subfolder=\"wt Na-noNa\",  show_noisy=False, show_denoised=True)\n",
    "                myg.compiled_graphs(what, which=['cc125_air-noNa_fresh','cc125_air-Na50mM_fresh'], subfolder=\"wt Na-noNa\",  show_noisy=False, show_denoised=True)\n",
    "                myg.compiled_graphs(what, which=['cc125_air-noNa_old','cc125_air-Na50mM_old'], subfolder=\"wt Na-noNa\",  show_noisy=False, show_denoised=True)\n",
    "\n",
    "                #pmp1\n",
    "                myg.compiled_graphs(what, which=['pmp1_air_fresh','pmp1_air_old'], subfolder=\"pmp1\",  show_noisy=False, show_denoised=True)\n",
    "                myg.compiled_graphs(what, which=['cc125_air_fresh','pmp1_air_fresh'], subfolder=\"pmp1\",  show_noisy=False, show_denoised=True)\n",
    "                myg.compiled_graphs(what, which=['cc125_air_old','pmp1_air_old'], subfolder=\"pmp1\",  show_noisy=False, show_denoised=True)\n",
    "\n",
    "                #cia5\n",
    "                myg.compiled_graphs(what, which=['cia5_air_fresh','cia5_air_old'], subfolder=\"cia5\",  show_noisy=False, show_denoised=True)\n",
    "                myg.compiled_graphs(what, which=['cc125_air_fresh','cia5_air_fresh'], subfolder=\"cia5\", show_noisy=False, show_denoised=True)\n",
    "                myg.compiled_graphs(what, which=['cc125_air_old','cia5_air_old'],subfolder=\"cia5\",  show_noisy=False, show_denoised=True)\n",
    "\n",
    "                #cia3\n",
    "                myg.compiled_graphs(what, which=['cia3_air6h_2t_fresh','cia3_air6h_6t_fresh','cia3_air6h_foam_fresh'], subfolder=\"cia3\", show_noisy=False, show_denoised=True)\n",
    "\n",
    "            elif day==\"20160121\":\n",
    "                myg.compiled_graphs(what, which=['CC125_highCO2-noCA_2','CC125_highCO2-noCA_3','CC125_highCO2-noCA_4'], subfolder=\"highCO2-noCA\", show_noisy=False, show_denoised=True)\n",
    "            \n",
    "            elif day==\"20160114\":\n",
    "                myg.compiled_graphs(what, which=['CO2_Light_2','CO2free_Light_2'], subfolder=\"Light\", show_noisy=False, show_denoised=True)\n",
    "                myg.compiled_graphs(what, which=['CO2_Light','CO2free_Light'], subfolder=\"Light\", show_noisy=False, show_denoised=True)\n",
    "                myg.compiled_graphs(what, which=['CO2_dark','CO2free_dark'], subfolder=\"dark\", show_noisy=False, show_denoised=True)\n",
    "                myg.compiled_graphs(what, which=['1_cc125m_air_CO2free-air','2_cc125m_air_CO2free-air_bic44'], subfolder=\"CO2free-bubbling_bic-nobic\", show_noisy=False, show_denoised=True)\n",
    "                myg.compiled_graphs(what, which=['1_cc125m_air_CO2free-air','3_cc125m_air_N2','4b_cc125m_air_N2+CO2','4c_cc125m_air_N2+CO2_longer'], subfolder=\"gas-bubbling\", show_noisy=False, show_denoised=True)\n",
    "            \n",
    "            elif day==\"20160513\":\n",
    "                #Na/noNa\n",
    "                myg.compiled_graphs(what, which=['cc125m_air_statphase_noNa_fresh','cc125m_air_statphase_Na_fresh'], subfolder=\"Na-noNa/light\", show_noisy=False, show_denoised=True)\n",
    "                myg.compiled_graphs(what, which=['cc125m_air_statphase_noNa_old','cc125m_air_statphase_Na_old'], subfolder=\"Na-noNa/light\", show_noisy=False, show_denoised=True)\n",
    "                myg.compiled_graphs(what, which=['cc125m_highCO2_expphase_noNa_fresh','cc125m_highCO2_expphase_Na_fresh'], subfolder=\"Na-noNa/light\", show_noisy=False, show_denoised=True)\n",
    "                myg.compiled_graphs(what, which=['cc125m_highCO2_expphase_noNa_old','cc125m_highCO2_expphase_Na_old'], subfolder=\"Na-noNa/light\", show_noisy=False, show_denoised=True)\n",
    "                myg.compiled_graphs(what, which=['cc125m_air_statphase_noNa_AZinj_fresh','cc125m_air_statphase_Na_AZinj_fresh'], subfolder=\"Na-noNa/az\", show_noisy=False, show_denoised=True)\n",
    "                myg.compiled_graphs(what, which=['cc125m_air_statphase_noNa_AZinj_old','cc125m_air_statphase_Na_AZinj_old'], subfolder=\"Na-noNa/az\", show_noisy=False, show_denoised=True)\n",
    "                myg.compiled_graphs(what, which=['cc125m_air_statphase_noNa_AZinj_washed','cc125m_air_statphase_Na_AZinj_washed'], subfolder=\"Na-noNa/az\", show_noisy=False, show_denoised=True)\n",
    "                myg.compiled_graphs(what, which=['cc125m_highCO2_expphase_noNa_AZinj_fresh','cc125m_highCO2_expphase_Na_AZinj_fresh'], subfolder=\"Na-noNa/az\", show_noisy=False, show_denoised=True)\n",
    "                myg.compiled_graphs(what, which=['cc125m_highCO2_expphase_noNa_AZinj_old','cc125m_highCO2_expphase_Na_AZinj_old'], subfolder=\"Na-noNa/az\", show_noisy=False, show_denoised=True)\n",
    "                myg.compiled_graphs(what, which=['cc125m_highCO2_expphase_noNa_AZinj_washed','cc125m_highCO2_expphase_Na_AZinj_washed'], subfolder=\"Na-noNa/az\", show_noisy=False, show_denoised=True)\n",
    "                \n",
    "                \n",
    "                #aging\n",
    "                myg.compiled_graphs(what, which=['cc125m_air_statphase_noNa_fresh','cc125m_air_statphase_noNa_old'], subfolder=\"aging/light\", show_noisy=False, show_denoised=True)\n",
    "                myg.compiled_graphs(what, which=['cc125m_air_statphase_Na_fresh','cc125m_air_statphase_Na_old'], subfolder=\"aging/light\", show_noisy=False, show_denoised=True)\n",
    "                myg.compiled_graphs(what, which=['cc125m_highCO2_expphase_noNa_fresh','cc125m_highCO2_expphase_noNa_old'], subfolder=\"aging/light\", show_noisy=False, show_denoised=True)\n",
    "                myg.compiled_graphs(what, which=['cc125m_highCO2_expphase_Na_fresh','cc125m_highCO2_expphase_Na_old'], subfolder=\"aging/light\", show_noisy=False, show_denoised=True)\n",
    "                myg.compiled_graphs(what, which=['cc125m_air_statphase_noNa_AZinj_fresh','cc125m_air_statphase_noNa_AZinj_old','cc125m_air_statphase_noNa_AZinj_washed'], subfolder=\"aging/az\", show_noisy=False, show_denoised=True)\n",
    "                myg.compiled_graphs(what, which=['cc125m_air_statphase_Na_AZinj_fresh','cc125m_air_statphase_Na_AZinj_old','cc125m_air_statphase_Na_AZinj_washed'], subfolder=\"aging/az\", show_noisy=False, show_denoised=True)\n",
    "                myg.compiled_graphs(what, which=['cc125m_highCO2_expphase_noNa_AZinj_fresh','cc125m_highCO2_expphase_noNa_AZinj_old','cc125m_highCO2_expphase_noNa_AZinj_washed'], subfolder=\"aging/az\", show_noisy=False, show_denoised=True)\n",
    "                myg.compiled_graphs(what, which=['cc125m_highCO2_expphase_Na_AZinj_fresh','cc125m_highCO2_expphase_Na_AZinj_old','cc125m_highCO2_expphase_Na_AZinj_washed'], subfolder=\"aging/az\", show_noisy=False, show_denoised=True)\n",
    "\n",
    "            elif day==\"20160512\":\n",
    "                myg.compiled_graphs(what, which=['cc125m_highCO2_statphase_Na','cc125m_highCO2_statphase_noNa'], subfolder=\"Na-noNa\", show_noisy=False, show_denoised=True)\n",
    "\n",
    "            elif day==\"20160519\":\n",
    "                myg.compiled_graphs(what, which=['cc125m_HighCO2_Na_Na_fresh',\n",
    "                                                 'cc125m_HighCO2_Na_noNa_fresh',\n",
    "                                                 'cc125m_HighCO2_noNa_Na_fresh',\n",
    "                                                 'cc125m_HighCO2_noNa_noNa_fresh'], \n",
    "                                    subfolder=\"Na-noNa\", show_noisy=False, show_denoised=True)\n"
   ]
  },
  {
   "cell_type": "code",
   "execution_count": 14,
   "metadata": {
    "collapsed": false
   },
   "outputs": [
    {
     "name": "stdout",
     "output_type": "stream",
     "text": [
      "compiled 20160519 enrichrate49 [\"'cc125m_HighCO2_Na_Na_fresh'\", \"'cc125m_HighCO2_Na_noNa_fresh''cc125m_HighCO2_noNa_Na_fresh'\", \"'cc125m_HighCO2_noNa_noNa_fresh'\"] Na-noNa\n"
     ]
    },
    {
     "ename": "AttributeError",
     "evalue": "'float' object has no attribute 'split'",
     "output_type": "error",
     "traceback": [
      "\u001b[1;31m---------------------------------------------------------------------------\u001b[0m",
      "\u001b[1;31mAttributeError\u001b[0m                            Traceback (most recent call last)",
      "\u001b[1;32m<ipython-input-14-d8af7bf01155>\u001b[0m in \u001b[0;36m<module>\u001b[1;34m()\u001b[0m\n\u001b[0;32m      4\u001b[0m \u001b[1;32mfor\u001b[0m \u001b[0mrow\u001b[0m \u001b[1;32min\u001b[0m \u001b[0mfigs\u001b[0m\u001b[1;33m.\u001b[0m\u001b[0miterrows\u001b[0m\u001b[1;33m(\u001b[0m\u001b[1;33m)\u001b[0m\u001b[1;33m:\u001b[0m\u001b[1;33m\u001b[0m\u001b[0m\n\u001b[0;32m      5\u001b[0m     \u001b[0mr\u001b[0m \u001b[1;33m=\u001b[0m \u001b[0mrow\u001b[0m\u001b[1;33m[\u001b[0m\u001b[1;36m1\u001b[0m\u001b[1;33m]\u001b[0m\u001b[1;33m\u001b[0m\u001b[0m\n\u001b[1;32m----> 6\u001b[1;33m     \u001b[0mprint\u001b[0m \u001b[1;33m(\u001b[0m\u001b[0mr\u001b[0m\u001b[1;33m[\u001b[0m\u001b[1;34m'type'\u001b[0m\u001b[1;33m]\u001b[0m\u001b[1;33m,\u001b[0m \u001b[0mr\u001b[0m\u001b[1;33m[\u001b[0m\u001b[1;34m'day'\u001b[0m\u001b[1;33m]\u001b[0m\u001b[1;33m,\u001b[0m \u001b[0mr\u001b[0m\u001b[1;33m[\u001b[0m\u001b[1;34m'what'\u001b[0m\u001b[1;33m]\u001b[0m\u001b[1;33m,\u001b[0m \u001b[0mr\u001b[0m\u001b[1;33m[\u001b[0m\u001b[1;34m'which'\u001b[0m\u001b[1;33m]\u001b[0m\u001b[1;33m.\u001b[0m\u001b[0msplit\u001b[0m\u001b[1;33m(\u001b[0m\u001b[1;34m\",\"\u001b[0m\u001b[1;33m)\u001b[0m\u001b[1;33m,\u001b[0m \u001b[0mr\u001b[0m\u001b[1;33m[\u001b[0m\u001b[1;34m'subfolder'\u001b[0m\u001b[1;33m]\u001b[0m\u001b[1;33m)\u001b[0m\u001b[1;33m\u001b[0m\u001b[0m\n\u001b[0m\u001b[0;32m      7\u001b[0m \u001b[1;31m#     if r['type'] == 'individual':\u001b[0m\u001b[1;33m\u001b[0m\u001b[1;33m\u001b[0m\u001b[0m\n\u001b[0;32m      8\u001b[0m \u001b[1;33m\u001b[0m\u001b[0m\n",
      "\u001b[1;31mAttributeError\u001b[0m: 'float' object has no attribute 'split'"
     ]
    }
   ],
   "source": [
    "day = '20160519'\n",
    "datafolder\n",
    "figs = pd.read_csv(os.path.join(datafolder, day, 'figures.txt'), sep='\\t')\n",
    "for row in figs.iterrows():\n",
    "    r = row[1]\n",
    "    print (r['type'], r['day'], r['what'], r['which'].split(\",\"), r['subfolder'])\n",
    "    \n",
    "    if r['type'] == 'individual':\n",
    "        myg.individual_graphs(r['what'].split(',')\n",
    "                              \n",
    "    elif r['type'] == 'compiled':\n",
    "        myg.compiled_graphs(r['what'], which=r['which'].split(\",\"), subfolder=r['subfolder'])\n",
    "        \n",
    "    print(r['day'],r['type'])\n",
    "# figs"
   ]
  },
  {
   "cell_type": "code",
   "execution_count": null,
   "metadata": {
    "collapsed": false
   },
   "outputs": [],
   "source": [
    "pattern=\"20160224\"\n",
    "\n",
    "for d in glob.glob(os.path.join(datafolder, pattern + \"*\")):\n",
    "    if os.path.isdir(d):\n",
    "        day = d.split(\"\\\\\")[-1]\n",
    "        print('')\n",
    "        print(day)\n",
    "        \n",
    "        myg = MyGraphs(datafolder, day)\n",
    "        \n",
    "        # config\n",
    "        myg.linewidth = 3.0\n",
    "        myg.figformat = 'svg'\n",
    "        myg.dpi = 300\n",
    "        myg.figWidth = 12\n",
    "        myg.figHeight = 8\n",
    "        myg.annotate = False\n",
    "        myg.legend = True\n",
    "#         myg.ymin=-0.4\n",
    "#         myg.ymax = 0.02\n",
    "        myg.title = True\n",
    "    \n",
    "        for what in ['d49dt','enrichrate49','d32dt_cd']:\n",
    "            myg.compiled_graphs(what, which=['cc125m_1','cc125m_2','cc125m_3','cc125m_4','cc125m_5',],  show_noisy=False, show_denoised=True)\n"
   ]
  },
  {
   "cell_type": "code",
   "execution_count": null,
   "metadata": {
    "collapsed": true
   },
   "outputs": [],
   "source": [
    "pattern=\"20160108\"\n",
    "\n",
    "for d in glob.glob(os.path.join(datafolder, pattern + \"*\")):\n",
    "    if os.path.isdir(d):\n",
    "        day = d.split(\"\\\\\")[-1]\n",
    "        print('')\n",
    "        print(day)\n",
    "        \n",
    "        myg = MyGraphs(datafolder, day)\n",
    "        \n",
    "        # config\n",
    "        myg.linewidth = 3.0\n",
    "        myg.figformat = 'svg'\n",
    "        myg.dpi = 300\n",
    "        myg.figWidth = 12\n",
    "        myg.figHeight = 8\n",
    "        myg.annotate = False\n",
    "        myg.legend = True\n",
    "#         myg.ymin=-0.4\n",
    "#         myg.ymax = 0.02\n",
    "        myg.title = True\n",
    "    \n",
    "        for what in ['d49dt','enrichrate49','d32dt_cd']:\n",
    "            myg.compiled_graphs(what, which=['CellsAZ_cells_air-t1','CellsAZ_cells_air-t2','CellsAZ_cells_air-t3'], show_noisy=False, show_denoised=True)\n",
    "            myg.compiled_graphs(what, which=['initial-cells-air','CO2-cells-air','initial-cells-air','noCO2-cells-air','bench-cells-air','N2-cells-air_2'], show_noisy=False, show_denoised=True)\n"
   ]
  },
  {
   "cell_type": "markdown",
   "metadata": {},
   "source": [
    "# calculate fluxes"
   ]
  },
  {
   "cell_type": "code",
   "execution_count": null,
   "metadata": {
    "collapsed": false
   },
   "outputs": [],
   "source": [
    "for d in glob.glob(os.path.join(datafolder, pattern + \"*\")):\n",
    "    if os.path.isdir(d):\n",
    "        day = d.split(\"\\\\\")[-1]\n",
    "        print('')\n",
    "        print(day)\n",
    "        \n",
    "        myg = MyGraphs(datafolder, day)\n",
    "        \n",
    "        myg.flux(\"CELLS\")\n",
    "        myg.flux(\"LIGHT ON\")\n",
    "        myg.flux(\"LIGHT OFF\")\n",
    "        "
   ]
  },
  {
   "cell_type": "markdown",
   "metadata": {},
   "source": [
    "# Clean old, automatically created files and folders"
   ]
  },
  {
   "cell_type": "code",
   "execution_count": 3,
   "metadata": {
    "collapsed": false
   },
   "outputs": [
    {
     "name": "stdout",
     "output_type": "stream",
     "text": [
      "\n",
      " 20160510\n",
      "[ ] C:\\Users\\U5040252\\Cloudstation\\Projects\\Mass_Spec_Data\\2016\\20160510\\20160510_cia3_air5h_fresh.csv\n",
      "[ ] C:\\Users\\U5040252\\Cloudstation\\Projects\\Mass_Spec_Data\\2016\\20160510\\20160510_cia3_air5h_old.csv\n",
      "[ ] C:\\Users\\U5040252\\Cloudstation\\Projects\\Mass_Spec_Data\\2016\\20160510\\20160510_cia3_highCO2_fresh.csv\n",
      "[ ] C:\\Users\\U5040252\\Cloudstation\\Projects\\Mass_Spec_Data\\2016\\20160510\\20160510_cia3_highCO2_old.csv\n",
      "[ ] C:\\Users\\U5040252\\Cloudstation\\Projects\\Mass_Spec_Data\\2016\\20160510\\20160510_cia5_air5h_fresh.csv\n",
      "[ ] C:\\Users\\U5040252\\Cloudstation\\Projects\\Mass_Spec_Data\\2016\\20160510\\20160510_cia5_air5h_old.csv\n",
      "[ ] C:\\Users\\U5040252\\Cloudstation\\Projects\\Mass_Spec_Data\\2016\\20160510\\20160510_cia5_highCO2_fresh.csv\n",
      "[ ] C:\\Users\\U5040252\\Cloudstation\\Projects\\Mass_Spec_Data\\2016\\20160510\\20160510_cia5_highCO2_old.csv\n",
      "[ ] C:\\Users\\U5040252\\Cloudstation\\Projects\\Mass_Spec_Data\\2016\\20160510\\20160510_pmp1_air5h_fresh.csv\n",
      "[ ] C:\\Users\\U5040252\\Cloudstation\\Projects\\Mass_Spec_Data\\2016\\20160510\\20160510_pmp1_air5h_old.csv\n",
      "[ ] C:\\Users\\U5040252\\Cloudstation\\Projects\\Mass_Spec_Data\\2016\\20160510\\20160510_pmp1_highCO2_fresh.csv\n",
      "[ ] C:\\Users\\U5040252\\Cloudstation\\Projects\\Mass_Spec_Data\\2016\\20160510\\20160510_pmp1_highCO2_old.csv\n",
      "[ ] C:\\Users\\U5040252\\Cloudstation\\Projects\\Mass_Spec_Data\\2016\\20160510\\20160510_SAMPLES.csv\n",
      "[ ] C:\\Users\\U5040252\\Cloudstation\\Projects\\Mass_Spec_Data\\2016\\20160510\\20160510_wt_air5h_fresh.csv\n",
      "[ ] C:\\Users\\U5040252\\Cloudstation\\Projects\\Mass_Spec_Data\\2016\\20160510\\20160510_wt_air5h_old.csv\n",
      "[ ] C:\\Users\\U5040252\\Cloudstation\\Projects\\Mass_Spec_Data\\2016\\20160510\\20160510_wt_highCO2-KOH_fresh.csv\n",
      "[ ] C:\\Users\\U5040252\\Cloudstation\\Projects\\Mass_Spec_Data\\2016\\20160510\\20160510_wt_highCO2-NaOH_fresh.csv\n",
      "[ ] C:\\Users\\U5040252\\Cloudstation\\Projects\\Mass_Spec_Data\\2016\\20160510\\20160510_wt_highCO2_fresh.csv\n",
      "[ ] C:\\Users\\U5040252\\Cloudstation\\Projects\\Mass_Spec_Data\\2016\\20160510\\20160510_wt_highCO2_old.csv\n",
      "[X] C:\\Users\\U5040252\\Cloudstation\\Projects\\Mass_Spec_Data\\2016\\20160510\\_20160510_log.csv\n",
      "[X] C:\\Users\\U5040252\\Cloudstation\\Projects\\Mass_Spec_Data\\2016\\20160510\\_20160510_SAMPLE_cleaned.csv\n",
      "defaultdict(<class 'int'>, {'20160510': 19})\n"
     ]
    }
   ],
   "source": [
    "pattern=\"20160510\"\n",
    "file_counter= defaultdict(int)\n",
    "\n",
    "for d in glob.glob(os.path.join(datafolder, pattern + \"*\")):\n",
    "    if os.path.isdir(d):\n",
    "        day = d.split(\"\\\\\")[-1]\n",
    "        print('\\n', day)\n",
    "        \n",
    "        # denoised folder\n",
    "        if os.path.isdir(os.path.join(datafolder, day, \"denoised_data\")):\n",
    "            for f in glob.glob(os.path.join(datafolder, day, \"denoised_data\\\\*.*\")):\n",
    "                os.remove(f)\n",
    "            os.rmdir(os.path.join(datafolder, day, \"denoised_data\\\\\"))\n",
    "            print(\"[X]\", os.path.join(datafolder, day, \"denoised_data\\\\\"))\n",
    "        \n",
    "\n",
    "        # various files\n",
    "        for datafile in glob.glob(os.path.join(d, \"*.csv\")):\n",
    "            if datafile.split(\"\\\\\")[-1] not in [\"_\" + day + \"_SAMPLE_cleaned.csv\",\n",
    "                                                \"_\" + day + \"_log.csv\",\n",
    "                                                \"_\" + day + \"_MASTER.csv\",\n",
    "                                                \"_\" + day + \"_SUMMARY.csv\"]:\n",
    "                print(\"[ ]\", datafile)\n",
    "                file_counter[day] +=1\n",
    "            else:\n",
    "                os.remove(datafile)\n",
    "                print(\"[X]\", datafile)\n",
    "        pass\n",
    "print(file_counter)"
   ]
  },
  {
   "cell_type": "code",
   "execution_count": null,
   "metadata": {
    "collapsed": false
   },
   "outputs": [],
   "source": [
    "a=0\n",
    "for k,v in file_counter.items():\n",
    "    a += v\n",
    "print(a)"
   ]
  },
  {
   "cell_type": "code",
   "execution_count": null,
   "metadata": {
    "collapsed": false
   },
   "outputs": [],
   "source": [
    "#recursive deletion of folders\n",
    "def del_tree(folder, inc=\"\"):\n",
    "    for f in glob.glob(os.path.join(folder, \"*\")):\n",
    "        if os.path.isdir(os.path.join(folder,f)):\n",
    "            print(inc, '[ ]', os.path.split(f)[-1])\n",
    "            inc += \" \"\n",
    "            del_tree(f, inc)\n",
    "        else:\n",
    "            os.remove(f)\n",
    "            print(inc, '[X]', os.path.split(f)[-1])\n",
    "    os.rmdir(folder)\n",
    "    print(inc, \"[X]\", folder)\n",
    "           \n",
    "    \n",
    "del_tree(datafolder + \"2016\\\\20160307\\\\figures\", \"\")"
   ]
  },
  {
   "cell_type": "code",
   "execution_count": null,
   "metadata": {
    "collapsed": false
   },
   "outputs": [],
   "source": [
    "pattern='2016'\n",
    "datafolder = datafolder = \"C:\\\\Users\\\\U5040252\\\\Cloudstation\\\\Projects\\\\Mass_Spec_Data\\\\2016\\\\\"\n",
    "\n",
    "\n",
    "file_counter= defaultdict(int)\n",
    "deleted_counter= defaultdict(int)\n",
    "deleted_dirs_counter = defaultdict(int)\n",
    "deleted = 0\n",
    "\n",
    "folders_to_delete = ['denoised_data', 'figures', 'flux']\n",
    "\n",
    "\n",
    "\n",
    "with open ('C:\\\\Users\\\\u5040252\\\\CloudStation\\\\'+pattern+'_out.txt', 'w') as f:\n",
    "\n",
    "    for d in glob.glob(os.path.join(datafolder, pattern + \"*\")):\n",
    "        if os.path.isdir(d):\n",
    "            day = d.split(\"\\\\\")[-1]\n",
    "            print('\\n', day)\n",
    "            f.write('\\n'+ day + '\\n')\n",
    "\n",
    "            #delete folders\n",
    "            for fold in folders_to_delete:\n",
    "                fold2 = os.path.join(datafolder, day, fold)\n",
    "                if os.path.isdir(fold2):\n",
    "                    print('[X]', fold2)\n",
    "                    f.write('[X] ' +  fold2+ '\\n')\n",
    "                    del_tree(fold2)\n",
    "                    deleted_dirs_counter[day] +=1\n",
    "\n",
    "\n",
    "\n",
    "            # various files\n",
    "            for datafile in glob.glob(os.path.join(d, \"*.csv\")):\n",
    "                if datafile.split(\"\\\\\")[-1] not in [\"_\" + day + \"_SAMPLE_cleaned.csv\",\n",
    "                                                    \"_\" + day + \"_log.csv\",\n",
    "                                                    \"_\" + day + \"_MASTER.csv\",\n",
    "                                                    \"_\" + day + \"_SUMMARY.csv\"]:\n",
    "                    print(\"[ ]\", datafile)\n",
    "                    f.write(\"[ ] \" + datafile+ '\\n')\n",
    "                    file_counter[day] +=1\n",
    "                else:\n",
    "                    deleted_counter[day] +=1\n",
    "                    os.remove(datafile)\n",
    "                    print(\"[X]\", datafile)\n",
    "                    f.write(\"[X] \" + datafile+ '\\n')\n",
    "\n",
    "    print(file_counter)\n",
    "    print(deleted_counter)\n",
    "    print(deleted_dirs_counter)\n"
   ]
  },
  {
   "cell_type": "code",
   "execution_count": null,
   "metadata": {
    "collapsed": true
   },
   "outputs": [],
   "source": []
  },
  {
   "cell_type": "code",
   "execution_count": null,
   "metadata": {
    "collapsed": true
   },
   "outputs": [],
   "source": []
  },
  {
   "cell_type": "markdown",
   "metadata": {},
   "source": [
    "# create a summary file"
   ]
  },
  {
   "cell_type": "code",
   "execution_count": null,
   "metadata": {
    "collapsed": false
   },
   "outputs": [],
   "source": [
    "myg = MyGraphs(datafolder, \"20160104\")\n",
    "# myg.individual_graphs(['d32dt'], show_noisy=False, show_denoised=True)\n"
   ]
  },
  {
   "cell_type": "code",
   "execution_count": null,
   "metadata": {
    "collapsed": false
   },
   "outputs": [],
   "source": [
    "myg.compiled_graphs(['Mass45','Mass47','Mass49'], which=['noAZ'], align=\"CELLS\", show_noisy=False, show_denoised=True)"
   ]
  },
  {
   "cell_type": "code",
   "execution_count": null,
   "metadata": {
    "collapsed": false
   },
   "outputs": [],
   "source": [
    "myg.individual_graphs(['Mass45','Mass47','Mass49'], show_noisy=False, show_denoised=True)\n"
   ]
  },
  {
   "cell_type": "code",
   "execution_count": null,
   "metadata": {
    "collapsed": false
   },
   "outputs": [],
   "source": [
    "myg.individual_graphs(['d45dt','d47dt','d49dt'], show_noisy=False, show_denoised=True)\n"
   ]
  },
  {
   "cell_type": "code",
   "execution_count": null,
   "metadata": {
    "collapsed": false
   },
   "outputs": [],
   "source": [
    "myg.individual_graphs(['d32dt'], show_noisy=False, show_denoised=True)\n"
   ]
  },
  {
   "cell_type": "code",
   "execution_count": null,
   "metadata": {
    "collapsed": false
   },
   "outputs": [],
   "source": [
    "myg.masterdf.columns\n",
    "        "
   ]
  },
  {
   "cell_type": "code",
   "execution_count": null,
   "metadata": {
    "collapsed": false
   },
   "outputs": [],
   "source": [
    "# homogenous time\n",
    "data['avgdt'] = data.time.diff().mean()\n",
    "data['time2'] = data.avgdt.cumsum()"
   ]
  },
  {
   "cell_type": "code",
   "execution_count": null,
   "metadata": {
    "collapsed": false
   },
   "outputs": [],
   "source": [
    "for a in [x for x in set([\"d32dt\", \"d40dt\", \"d44dt\", \"d45dt\", \"d46dt\", \"d47dt\", \"d49dt\"]) if x not in set(data.columns)]:\n",
    "    mass = \"Mass\" + a.lstrip('d').rstrip('dt')\n",
    "    data[a] = rolling_linear_reg(data.time, data[mass], 60)"
   ]
  },
  {
   "cell_type": "code",
   "execution_count": null,
   "metadata": {
    "collapsed": false
   },
   "outputs": [],
   "source": [
    "# data.d32dt.dtypes\n",
    "data.loc[200:,:].transpose()"
   ]
  },
  {
   "cell_type": "code",
   "execution_count": null,
   "metadata": {
    "collapsed": false
   },
   "outputs": [],
   "source": [
    "os.path.split(datafolder)"
   ]
  },
  {
   "cell_type": "code",
   "execution_count": null,
   "metadata": {
    "collapsed": false
   },
   "outputs": [],
   "source": [
    "datafolder"
   ]
  },
  {
   "cell_type": "code",
   "execution_count": null,
   "metadata": {
    "collapsed": true
   },
   "outputs": [],
   "source": [
    "\"C:\\\\Users\\\\U5040252\\\\My Documents\\\\Projects\\\\Mass_Spec_Data\\\\2016\""
   ]
  },
  {
   "cell_type": "code",
   "execution_count": null,
   "metadata": {
    "collapsed": false
   },
   "outputs": [],
   "source": [
    "os.path.split(\"C:\\\\Users\\\\U5040252\\\\My Documents\\\\Projects\\\\Mass_Spec_Data\\\\2016\")"
   ]
  },
  {
   "cell_type": "code",
   "execution_count": null,
   "metadata": {
    "collapsed": false
   },
   "outputs": [],
   "source": [
    "a=[1,2,3]\n",
    "a.insert(6, 1)\n",
    "a"
   ]
  },
  {
   "cell_type": "code",
   "execution_count": null,
   "metadata": {
    "collapsed": true
   },
   "outputs": [],
   "source": []
  },
  {
   "cell_type": "code",
   "execution_count": null,
   "metadata": {
    "collapsed": true
   },
   "outputs": [],
   "source": []
  },
  {
   "cell_type": "code",
   "execution_count": null,
   "metadata": {
    "collapsed": false
   },
   "outputs": [],
   "source": [
    "for i in os.walk(os.path.join(datafolder, '20160420')):\n",
    "    print(i)"
   ]
  },
  {
   "cell_type": "code",
   "execution_count": null,
   "metadata": {
    "collapsed": false
   },
   "outputs": [],
   "source": [
    "d = pd.read_csv(os.path.join(datafolder, '20160420','20160420_bic_3.csv'), encoding='ISO8859-15')\n",
    "d['Mass44'] = d.Mass44 - 3\n",
    "d.to_csv(os.path.join(datafolder, '20160420', '20160420_bic_3b.csv'))"
   ]
  },
  {
   "cell_type": "code",
   "execution_count": null,
   "metadata": {
    "collapsed": false
   },
   "outputs": [],
   "source": [
    "\n",
    "datafile = os.path.join(datafolder, \"20160513_SAMPLE.csv\")\n",
    "\n",
    "os.path.split(datafile)"
   ]
  },
  {
   "cell_type": "markdown",
   "metadata": {
    "collapsed": false
   },
   "source": [
    "# create list of samples for chlorophylls"
   ]
  },
  {
   "cell_type": "code",
   "execution_count": null,
   "metadata": {
    "collapsed": false
   },
   "outputs": [],
   "source": [
    "import os, glob\n",
    "import pandas as pd\n",
    "\n",
    "datafolder = 'C:\\\\Users\\\\U5040252\\\\Cloudstation\\\\Projects\\\\Mass_Spec_Data\\\\2016'\n",
    "pattern=\"\"\n",
    "outputfile = os.path.join(datafolder, \"chlorophylls.csv\")\n",
    "\n",
    "\n",
    "\n",
    "# if chlorophyll file  already exists, then load csv and update it\n",
    "if os.path.isfile(outputfile):\n",
    "    mode=\"updating\"\n",
    "    chl = pd.read_csv(outputfile, encoding='ISO-8859-1')[['date','samplename','chlorophyll']]\n",
    "else:\n",
    "    mode=\"creating\"\n",
    "    chl = pd.DataFrame(columns=['date','samplename','chlorophyll'])\n",
    "\n",
    "print(mode)\n",
    "    \n",
    "    \n",
    "# main loop\n",
    "for d in glob.glob(os.path.join(datafolder, pattern + \"2*\")):\n",
    "    if os.path.isdir(d):\n",
    "        day = os.path.split(d)[1]\n",
    "        \n",
    "        samplefile = os.path.join(d, day + \"_SAMPLES.csv\")\n",
    "        print(day, samplefile, os.path.isfile(samplefile))\n",
    "        if os.path.isfile(samplefile):\n",
    "            tmp = pd.read_csv(samplefile, encoding='ISO-8859-1')[['date','samplename']]\n",
    "            tmp['chlorophyll'] = \"\"\n",
    "            \n",
    "            if day not in set(chl.date.apply(lambda x: str(x))):\n",
    "                chl = chl.append(tmp, ignore_index=True)\n",
    "    chl.to_csv(outputfile)\n",
    "                \n",
    "        \n",
    "#             if os.path.isfile(samplefile):\n",
    "#                 tmp = pd.read_csv(samplefile)\n",
    "#                 if 'date' not in master.columns:\n",
    "#                     master = tmp\n",
    "#                 elif day not in set(master.date.apply(lambda x: str(x))):\n",
    "#                     master = master.append(tmp, ignore_index=True)\n",
    "\n",
    "#             if os.path.isfile(samplefile_cleaned):\n",
    "#                 tmp2 = pd.read_csv(samplefile_cleaned)\n",
    "#                 tmp2['day'] = str(day)\n",
    "#                 if 'day' not in master_cleaned.columns:\n",
    "#                     master_cleaned = tmp2\n",
    "\n",
    "#                 elif day not in set(master_cleaned.day.apply(lambda x: str(x))):\n",
    "#                     master_cleaned = master_cleaned.append(tmp2, ignore_index=True)\n",
    "\n",
    "#     master.reset_index()\n",
    "#     master.to_csv(master_samplefile, index=False)\n",
    "\n",
    "#     master_cleaned.reset_index()\n",
    "#     master_cleaned.to_csv(master_samplefile_cleaned, index=False)\n"
   ]
  },
  {
   "cell_type": "code",
   "execution_count": null,
   "metadata": {
    "collapsed": false
   },
   "outputs": [],
   "source": [
    "tmp"
   ]
  },
  {
   "cell_type": "code",
   "execution_count": null,
   "metadata": {
    "collapsed": false
   },
   "outputs": [],
   "source": [
    "chl"
   ]
  },
  {
   "cell_type": "code",
   "execution_count": null,
   "metadata": {
    "collapsed": false
   },
   "outputs": [],
   "source": [
    "# Merging samples with chlorophyll\n",
    "day='20160510'\n",
    "datafolder = \"C:\\\\Users\\\\u5040252\\\\CloudStation\\\\Projects\\\\Mass_Spec_Data\\\\2016\\\\\"\n",
    "chlorofile = os.path.join(datafolder, \"chlorophylls.csv\")\n",
    "samplefile =  os.path.join(datafolder, day, day + \"_SAMPLES.csv\")\n",
    "\n",
    "chl = pd.read_csv(chlorofile, index_col=0, encoding='ISO-8859-1')[['date','samplename','chlorophyll']]\n",
    "samples = pd.read_csv(samplefile, encoding='ISO-8859-1')\n"
   ]
  },
  {
   "cell_type": "code",
   "execution_count": null,
   "metadata": {
    "collapsed": false
   },
   "outputs": [],
   "source": [
    "samples = samples.merge(chl, on=['date','samplename'], how='left')\n",
    "samples"
   ]
  },
  {
   "cell_type": "code",
   "execution_count": null,
   "metadata": {
    "collapsed": false
   },
   "outputs": [],
   "source": [
    "s = \"wt_highCO2_fresh\"\n",
    "import re\n",
    "\n",
    "samples['BIC'] = 0\n",
    "samples['CELLS'] = 0\n",
    "samples['AZ'] = 0\n",
    "samples['EZ'] = 0\n",
    "\n",
    "\n",
    "for s in set(samples.samplename):\n",
    "\n",
    "    f = samples.loc[samples.samplename == s,\"filename\"].values[0]\n",
    "\n",
    "    datafile = os.path.join(datafolder, day, f)\n",
    "    data = pd.read_csv(datafile, encoding='ISO-8859-1')\n",
    "\n",
    "    # parse events\n",
    "    for r in data.loc[data.eventtype.notnull(),[\"time2\", \"eventtype\", \"eventdetails\"]].iterrows():\n",
    "        r = r[1]\n",
    "\n",
    "        if r['eventtype'] in [\"BIC\",\"CELLS\",\"AZ\",\"EZ\"]:\n",
    "#             print(s, r['eventtype'], re.search(\"[0-9]+\", r[\"eventdetails\"]).group())\n",
    "            samples.loc[samples.samplename==s, r['eventtype']] = float(re.search(\"[0-9]+\", r[\"eventdetails\"]).group())\n",
    "\n",
    "    \n",
    "    # calculate final chlorophyll content \n",
    "    samples['chloro_final'] = samples.CELLS / samples.cuvette * samples.chlorophyll\n",
    "    samples.chloro_final = samples.chloro_final.apply(lambda x:round(x, 2))\n",
    "\n",
    "samples.transpose()\n",
    "\n",
    "        \n",
    "        "
   ]
  },
  {
   "cell_type": "code",
   "execution_count": null,
   "metadata": {
    "collapsed": true
   },
   "outputs": [],
   "source": []
  }
 ],
 "metadata": {
  "kernelspec": {
   "display_name": "Python 3",
   "language": "python",
   "name": "python3"
  },
  "language_info": {
   "codemirror_mode": {
    "name": "ipython",
    "version": 3
   },
   "file_extension": ".py",
   "mimetype": "text/x-python",
   "name": "python",
   "nbconvert_exporter": "python",
   "pygments_lexer": "ipython3",
   "version": "3.5.1"
  }
 },
 "nbformat": 4,
 "nbformat_minor": 0
}
