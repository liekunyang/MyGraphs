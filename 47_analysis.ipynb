{
 "cells": [
  {
   "cell_type": "code",
   "execution_count": 53,
   "metadata": {
    "collapsed": true
   },
   "outputs": [],
   "source": [
    "import sys\n",
    "myFunctionsFolder = \"C:\\\\Users\\\\u5040252\\\\CloudStation\\\\Dropbox\\\\data Vincent\\\\Python\\\\myFunctions\\\\\"\n",
    "if not  myFunctionsFolder in sys.path:\n",
    "    sys.path.append(myFunctionsFolder)\n",
    "    \n",
    "\n",
    "\n",
    "    \n",
    "# from denoising import denoise_df, rolling_linear_reg, myround\n",
    "from MyGraphs import *\n",
    "import pandas as pd\n",
    "import time\n",
    "import os\n",
    "import glob\n",
    "from  collections import *\n",
    "\n",
    "% matplotlib qt"
   ]
  },
  {
   "cell_type": "code",
   "execution_count": 22,
   "metadata": {
    "collapsed": true
   },
   "outputs": [],
   "source": [
    "datafolder = \"C:\\\\Users\\\\U5040252\\\\Cloudstation\\\\Projects\\\\Mass_Spec_Data\\\\2016\\\\\"\n",
    "day = '20160513'  #date pattern. Examples: '2016', '201601', '20160331'\n",
    "\n",
    "freshfile = os.path.join(datafolder, day, \"20160513_cc125m_highCO2_expphase_Na_AZinj_fresh.csv\")\n",
    "oldfile = os.path.join(datafolder, day, \"20160513_cc125m_highCO2_expphase_Na_AZinj_old.csv\")\n",
    "\n",
    "ncfile = os.path.join(datafolder, \"20160427\", \"20160427_ph78_NC.csv\")\n"
   ]
  },
  {
   "cell_type": "code",
   "execution_count": 23,
   "metadata": {
    "collapsed": false
   },
   "outputs": [],
   "source": [
    "\n",
    "if os.path.isfile(freshfile):\n",
    "    fresh = pd.read_csv(freshfile, encoding='ISO-8859-1')\n",
    "if os.path.isfile(oldfile):\n",
    "    old = pd.read_csv(oldfile, encoding='ISO-8859-1')\n",
    "if os.path.isfile(ncfile):\n",
    "    nc = pd.read_csv(ncfile, encoding='ISO-8859-1')\n"
   ]
  },
  {
   "cell_type": "code",
   "execution_count": 42,
   "metadata": {
    "collapsed": false
   },
   "outputs": [],
   "source": [
    "fresh[[\"nc_d45dt\",\"nc_d47dt\",\"nc_d49dt\",\"nc_enrichrate49\"]] = nc[[\"d45dt\",\"d47dt\",\"d49dt\",\"enrichrate49\"]]\n",
    "fresh['corr_d49dt'] = fresh.d49dt - nc.d49dt \n",
    "fresh['corr_d47dt'] = fresh.d47dt - nc.d47dt \n",
    "fresh['corr_d45dt'] = fresh.d45dt - nc.d45dt \n",
    "\n",
    "# plot\n",
    "fresh[['corr_d49dt','d49dt']].plot()\n",
    "fresh[['corr_d47dt','d47dt']].plot()\n",
    "fresh[['corr_d45dt','d45dt']].plot()"
   ]
  },
  {
   "cell_type": "markdown",
   "metadata": {},
   "source": [
    "# if CAi not limiting"
   ]
  },
  {
   "cell_type": "code",
   "execution_count": 63,
   "metadata": {
    "collapsed": false
   },
   "outputs": [
    {
     "data": {
      "text/plain": [
       "<matplotlib.axes._subplots.AxesSubplot at 0xfb2d588>"
      ]
     },
     "execution_count": 63,
     "metadata": {},
     "output_type": "execute_result"
    }
   ],
   "source": [
    "fresh['uptake'] = fresh.corr_d49dt * (fresh.totalCO2 / fresh.Mass49)\n",
    "fresh['efflux'] = fresh.corr_d45dt  + uptake * (fresh.Mass45 / fresh.totalCO2)\n",
    "fresh[['uptake', 'efflux']].plot()"
   ]
  },
  {
   "cell_type": "code",
   "execution_count": 60,
   "metadata": {
    "collapsed": false
   },
   "outputs": [
    {
     "data": {
      "text/plain": [
       "<matplotlib.axes._subplots.AxesSubplot at 0xea2aa58>"
      ]
     },
     "execution_count": 60,
     "metadata": {},
     "output_type": "execute_result"
    }
   ],
   "source": [
    "fresh['diff4549'] = (fresh['d45dt'] * fresh.totalCO2/fresh.Mass45) + (fresh['d47dt']* fresh.totalCO2/fresh.Mass47)+ (fresh['d49dt']* fresh.totalCO2/fresh.Mass49)\n",
    "fresh.set_index('time')[['diff4549']].plot()"
   ]
  },
  {
   "cell_type": "code",
   "execution_count": 46,
   "metadata": {
    "collapsed": false
   },
   "outputs": [
    {
     "data": {
      "text/plain": [
       "<matplotlib.axes._subplots.AxesSubplot at 0xe138ac8>"
      ]
     },
     "execution_count": 46,
     "metadata": {},
     "output_type": "execute_result"
    }
   ],
   "source": []
  },
  {
   "cell_type": "code",
   "execution_count": null,
   "metadata": {
    "collapsed": true
   },
   "outputs": [],
   "source": []
  },
  {
   "cell_type": "code",
   "execution_count": null,
   "metadata": {
    "collapsed": true
   },
   "outputs": [],
   "source": []
  },
  {
   "cell_type": "code",
   "execution_count": null,
   "metadata": {
    "collapsed": true
   },
   "outputs": [],
   "source": []
  },
  {
   "cell_type": "code",
   "execution_count": null,
   "metadata": {
    "collapsed": true
   },
   "outputs": [],
   "source": []
  },
  {
   "cell_type": "code",
   "execution_count": null,
   "metadata": {
    "collapsed": true
   },
   "outputs": [],
   "source": []
  }
 ],
 "metadata": {
  "kernelspec": {
   "display_name": "Python 3",
   "language": "python",
   "name": "python3"
  },
  "language_info": {
   "codemirror_mode": {
    "name": "ipython",
    "version": 3
   },
   "file_extension": ".py",
   "mimetype": "text/x-python",
   "name": "python",
   "nbconvert_exporter": "python",
   "pygments_lexer": "ipython3",
   "version": "3.5.1"
  }
 },
 "nbformat": 4,
 "nbformat_minor": 0
}
