{
 "cells": [
  {
   "cell_type": "code",
   "execution_count": 11,
   "metadata": {
    "collapsed": false,
    "scrolled": false
   },
   "outputs": [
    {
     "name": "stdout",
     "output_type": "stream",
     "text": [
      "Consumption parameters loaded: -0.000642215117437 -0.000400631532886\n",
      "53.2543249130249 20160118 individual d32dt\n",
      "26.46864652633667 20160118 individual d44dt\n",
      "26.190618753433228 20160118 individual d45dt\n",
      "26.00860071182251 20160118 individual d47dt\n",
      "25.536553382873535 20160118 individual d49dt\n",
      "32.160215616226196 20160118 individual ['d44dt', 'd45dt', 'd47dt', 'd49dt', 'dtotalCO2dt']\n",
      "25.913591146469116 20160118 individual dtotalCO2dt\n",
      "25.68556833267212 20160118 individual enrichrate49\n",
      "31.69516921043396 20160118 individual ['Mass44', 'Mass45', 'Mass47', 'Mass49', 'totalCO2']\n",
      "27.524752140045166"
     ]
    },
    {
     "name": "stderr",
     "output_type": "stream",
     "text": [
      "C:\\Anaconda3\\lib\\site-packages\\pandas\\core\\index.py:6154: RuntimeWarning: unorderable types: str() < int(), sort order is undefined for incomparable objects\n",
      "  result = result.union(other)\n",
      "C:\\Anaconda3\\lib\\site-packages\\pandas\\core\\indexing.py:266: SettingWithCopyWarning: \n",
      "A value is trying to be set on a copy of a slice from a DataFrame.\n",
      "Try using .loc[row_indexer,col_indexer] = value instead\n",
      "\n",
      "See the caveats in the documentation: http://pandas.pydata.org/pandas-docs/stable/indexing.html#indexing-view-versus-copy\n",
      "  self.obj[key] = _infer_fill_value(value)\n",
      "C:\\Anaconda3\\lib\\site-packages\\pandas\\core\\indexing.py:426: SettingWithCopyWarning: \n",
      "A value is trying to be set on a copy of a slice from a DataFrame.\n",
      "Try using .loc[row_indexer,col_indexer] = value instead\n",
      "\n",
      "See the caveats in the documentation: http://pandas.pydata.org/pandas-docs/stable/indexing.html#indexing-view-versus-copy\n",
      "  self.obj[item] = s\n",
      "C:\\Users\\u5040252\\Dropbox\\data Vincent\\Python\\Argon\\mygraphs\\MyGraphs.py:441: SettingWithCopyWarning: \n",
      "A value is trying to be set on a copy of a slice from a DataFrame.\n",
      "Try using .loc[row_indexer,col_indexer] = value instead\n",
      "\n",
      "See the caveats in the documentation: http://pandas.pydata.org/pandas-docs/stable/indexing.html#indexing-view-versus-copy\n",
      "  df['time3'] = df.time3.apply(lambda x: round(x, 1))\n"
     ]
    },
    {
     "name": "stdout",
     "output_type": "stream",
     "text": [
      " 20160118 individual ['d32dt', 'd32dt_cons']\n",
      "44.98949861526489\n"
     ]
    }
   ],
   "source": [
    "# Formats data\n",
    "# createes graphs\n",
    "# calculates fluxes\n",
    "\n",
    "from mygraphs import MyGraphs\n",
    "import time\n",
    "\n",
    "\n",
    "datafolder = \"C:\\\\Users\\\\U5040252\\\\My Documents\\\\Projects\\\\Mass_Spec_Data\\\\\"\n",
    "day=['20160118']\n",
    "\n",
    "b1=time.time()\n",
    "\n",
    "for d in day:\n",
    "    myg = MyGraphs.MyGraphs(datafolder, d)\n",
    "    myg.cuvette = 2000 \n",
    "    \n",
    "    #calculate fluxes\n",
    "#     myg.flux(\"LIGHT ON\")\n",
    "#     myg.flux(\"CELLS\")\n",
    "\n",
    "\n",
    "    for w in ['d32dt', 'd44dt', 'd45dt', 'd47dt', 'd49dt', ['d44dt','d45dt','d47dt','d49dt','dtotalCO2dt'],\n",
    "              'dtotalCO2dt', 'enrichrate49', ['Mass44','Mass45','Mass47','Mass49','totalCO2'], ['d32dt','d32dt_cons']]:\n",
    "        b1=time.time()\n",
    "        myg.individual_graphs(w,show_noisy=True, show_denoised=True)\n",
    "        print(time.time() - b1, d, \"individual\", w)\n",
    "        \n",
    "    \n",
    "    for w in ['d32dt', 'd32dt_cons', 'd49dt', 'd47dt', 'd45dt', 'd44dt', 'dtotalCO2dt', 'enrichrate49','totalCO2']:\n",
    "        if d=='20160224':\n",
    "            myg.compiled_graphs(what = [w], which = ['cc125m_1','cc125m_4'])\n",
    "            myg.compiled_graphs(what = [w], which = ['cc125m_1','cc125m_4','cc125m_5'])\n",
    "\n",
    "            print(time.time() - b1, d, \"compiled\", w, which)\n",
    "        elif d== '20160219':\n",
    "            myg.compiled_graphs(what = [w], which = ['cc125m_1','cc125m_2','cc125m_3']) \n",
    "            print(time.time() - b1, d, \"compiled\", w)\n",
    "        elif d== '20160216':\n",
    "            myg.compiled_graphs(what = [w], which = ['cc125m_1','cc125m_2','cc125m_4'])\n",
    "            myg.compiled_graphs(what = [w], which = ['cc125m_1_2','cc125m_2_2','cc125m_4_2'])\n",
    "            myg.compiled_graphs(what = [w], which = ['cc125m_1_3','cc125m_4_3'])\n",
    "            myg.compiled_graphs(what = [w], which = ['cc125m_4','cc125m_4white'])\n",
    "            print(time.time() - b1, d, \"compiled\", w)#         \n",
    "        elif d== '20160302':\n",
    "            myg.compiled_graphs(what = [w], which = ['cc125m_1','cc1860_1'])\n",
    "            myg.compiled_graphs(what = [w], which = ['cc125m_2','cc1860_2'])\n",
    "            myg.compiled_graphs(what = [w], which = ['cc1860_1','cc1860_2'])\n",
    "            myg.compiled_graphs(what = [w], which = ['cc125m_1','cc125m_2'])\n",
    "            myg.compiled_graphs(what = [w], which = ['cc125m_1','cc125c_1'])\n",
    "            myg.compiled_graphs(what = [w], which = ['cc125m_2','cc125c_2'])\n",
    "        elif d== '20160307':\n",
    "            myg.compiled_graphs(what = [w], which = ['cc125m_highCO2_t0','cc125m_highCO2_t1'])\n",
    "            myg.compiled_graphs(what = [w], which = ['cc1860_highCO2_t0','cc1860_highCO2_t1'])\n",
    "            myg.compiled_graphs(what = [w], which = ['cc125m_highCO2_t0','cc1860_highCO2_t0'])\n",
    "            myg.compiled_graphs(what = [w], which = ['cc125m_highCO2_t1','cc1860_highCO2_t1'])\n",
    "            \n",
    "            myg.compiled_graphs(what = [w], which = ['cc125m_air2h_t0','cc125m_air2h_t1'])\n",
    "            myg.compiled_graphs(what = [w], which = ['cc1860_air2h_t0','cc1860_air2h_t1'])\n",
    "            myg.compiled_graphs(what = [w], which = ['cc125m_air2h_t0','cc1860_air2h_t0'])\n",
    "            myg.compiled_graphs(what = [w], which = ['cc125m_air2h_t1','cc1860_air2h_t1'])\n",
    "            \n",
    "            myg.compiled_graphs(what = [w], which = ['cc125m_air4h_t0','cc125m_air4h_t1'])\n",
    "            myg.compiled_graphs(what = [w], which = ['cc1860_air4h_t0','cc1860_air4h_t1'])\n",
    "            myg.compiled_graphs(what = [w], which = ['cc125m_air4h_t0','cc1860_air4h_t0'])\n",
    "            myg.compiled_graphs(what = [w], which = ['cc125m_air4h_t1','cc1860_air4h_t1'])\n",
    "            \n",
    "            \n",
    "            myg.compiled_graphs(what = [w], which = ['cc125m_highCO2_t0','cc125m_air4h_t0'])\n",
    "            myg.compiled_graphs(what = [w], which = ['cc125m_highCO2_t1','cc125m_air4h_t1'])\n",
    "            myg.compiled_graphs(what = [w], which = ['cc125m_highCO2_t0','cc125m_air4h_t0'])\n",
    "            myg.compiled_graphs(what = [w], which = ['cc125m_highCO2_t1','cc125m_air4h_t1'])\n",
    "            \n",
    "            myg.compiled_graphs(what = [w], which = ['cc125m_highCO2_t1','cc125m_air4h_t1'])\n",
    "        elif d== '20160308':\n",
    "            myg.compiled_graphs(what = [w], which = ['cc125m_highCO2_t0','cc125m_highCO2_t1', 'cc125m_highCO2_t2'])\n",
    "            myg.compiled_graphs(what = [w], which = ['cc1860_highCO2_t0','cc1860_highCO2_t1', 'cc1860_highCO2_t2'])\n",
    "            myg.compiled_graphs(what = [w], which = ['cc125m_highCO2_t0','cc1860_highCO2_t0'])\n",
    "            myg.compiled_graphs(what = [w], which = ['cc125m_highCO2_t1','cc1860_highCO2_t1'])\n",
    "            myg.compiled_graphs(what = [w], which = ['cc125m_highCO2_t0','cc125m_air4h_t0'])\n",
    "            myg.compiled_graphs(what = [w], which = ['cc125m_highCO2_t1','cc125m_air4h_t1'])\n",
    "        elif d== '20160311':\n",
    "            myg.compiled_graphs(what = [w], which = ['cc125m_highCO2-MOPS74_1','cc125m_highCO2-MOPS74_2'])\n",
    "            myg.compiled_graphs(what = [w], which = ['cc125m_highCO2-EPPS78_1','cc125m_highCO2-EPPS78_2'])\n",
    "            myg.compiled_graphs(what = [w], which = ['cc125m_air2h-MOPS74_1','cc125m_air2h-MOPS74_2', 'cc125m_air2h-MOPS74_3'])\n",
    "            myg.compiled_graphs(what = [w], which = ['cc125m_highCO2-EPPS78_1','cc125m_highCO2-MOPS74_1'])\n",
    "            myg.compiled_graphs(what = [w], which = ['cc125m_highCO2-EPPS78_2','cc125m_highCO2-MOPS74_2'])\n",
    "            myg.compiled_graphs(what = [w], which = ['cc125m_air2h-EPPS78_2','cc125m_air2h-MOPS74_2'])\n",
    "            myg.compiled_graphs(what = [w], which = ['cc125m_air2h-EPPS78_1','cc125m_air2h-MOPS74_1'])\n",
    "            myg.compiled_graphs(what = [w], which = ['cc125m_air2h-EPPS78_1','cc125m_air2h-EPPS78_2'])\n",
    "        elif d== '20160118':\n",
    "            myg.compiled_graphs(what = [w], which = ['cc125M_Air-Cells-pH74','cc125M_Air-Cells-pH78'])\n",
    "\n",
    "\n",
    "\n",
    "print(time.time() - b1)\n"
   ]
  },
  {
   "cell_type": "code",
   "execution_count": null,
   "metadata": {
    "collapsed": true
   },
   "outputs": [],
   "source": [
    "    #calculate fluxes\n",
    "#     myg.flux(\"LIGHT ON\")\n",
    "#     myg.flux(\"CELLS\")\n",
    "\n"
   ]
  },
  {
   "cell_type": "code",
   "execution_count": 6,
   "metadata": {
    "collapsed": false
   },
   "outputs": [
    {
     "name": "stdout",
     "output_type": "stream",
     "text": [
      "Consumption parameters loaded: -0.000642215117437 -0.000400631532886\n",
      "loading:  cc125m_highCO2_t0 6943\n",
      "loading:  cc125m_highCO2_t1 6943\n",
      "loading:  cc125m_highCO2_t2 6943\n",
      "loading:  cc1860_highCO2_t0 6943\n",
      "loading:  cc1860_highCO2_t1 6943\n",
      "loading:  cc1860_highCO2_t2 6942\n",
      "loading:  cc125m_air4h_t0 6943\n",
      "loading:  cc125m_air4h_t1 6943\n",
      "loading:  cc125m_air4h_t2 6943\n",
      "loading:  cc1860_air4h_t0 6943\n",
      "loading:  cc1860_air4h_t1 6943\n",
      "loading: "
     ]
    },
    {
     "name": "stderr",
     "output_type": "stream",
     "text": [
      "C:\\Anaconda3\\lib\\site-packages\\pandas\\core\\index.py:6154: RuntimeWarning: unorderable types: str() < int(), sort order is undefined for incomparable objects\n",
      "  result = result.union(other)\n",
      "C:\\Anaconda3\\lib\\site-packages\\pandas\\core\\indexing.py:266: SettingWithCopyWarning: \n",
      "A value is trying to be set on a copy of a slice from a DataFrame.\n",
      "Try using .loc[row_indexer,col_indexer] = value instead\n",
      "\n",
      "See the caveats in the documentation: http://pandas.pydata.org/pandas-docs/stable/indexing.html#indexing-view-versus-copy\n",
      "  self.obj[key] = _infer_fill_value(value)\n",
      "C:\\Anaconda3\\lib\\site-packages\\pandas\\core\\indexing.py:426: SettingWithCopyWarning: \n",
      "A value is trying to be set on a copy of a slice from a DataFrame.\n",
      "Try using .loc[row_indexer,col_indexer] = value instead\n",
      "\n",
      "See the caveats in the documentation: http://pandas.pydata.org/pandas-docs/stable/indexing.html#indexing-view-versus-copy\n",
      "  self.obj[item] = s\n",
      "C:\\Users\\u5040252\\Dropbox\\data Vincent\\Python\\Argon\\mygraphs\\MyGraphs.py:442: SettingWithCopyWarning: \n",
      "A value is trying to be set on a copy of a slice from a DataFrame.\n",
      "Try using .loc[row_indexer,col_indexer] = value instead\n",
      "\n",
      "See the caveats in the documentation: http://pandas.pydata.org/pandas-docs/stable/indexing.html#indexing-view-versus-copy\n",
      "  \n"
     ]
    },
    {
     "name": "stdout",
     "output_type": "stream",
     "text": [
      " cc1860_air4h_t2 2324\n"
     ]
    }
   ],
   "source": [
    "datafolder = \"C:\\\\Users\\\\U5040252\\\\My Documents\\\\Projects\\\\Mass_Spec_Data\\\\\"\n",
    "day=['20160308']\n",
    "myg = MyGraphs.MyGraphs(datafolder, d)\n",
    "myg.cuvette = 2000 \n",
    "# myg.flux\n",
    "myg.compiled_graphs(what = ['d49dt'], which = ['cc125m_highCO2_t0','cc125m_air4h_t0'])\n",
    "\n"
   ]
  },
  {
   "cell_type": "code",
   "execution_count": null,
   "metadata": {
    "collapsed": false
   },
   "outputs": [],
   "source": [
    "for w in ['d32dt']:\n",
    "    myg.individual_graphs([w])"
   ]
  },
  {
   "cell_type": "code",
   "execution_count": null,
   "metadata": {
    "collapsed": false
   },
   "outputs": [],
   "source": [
    "# Analysis + individual graphs\n",
    "\n",
    "b1=time.time()\n",
    "datafolder = \"C:\\\\Users\\\\U5040252\\\\My Documents\\\\Projects\\\\Mass_Spec_Data\\\\\"\n",
    "\n",
    "myg = myGraphs.myGraphs()\n",
    "\n",
    "for day in ['20160219','20160224']:\n",
    "    b2=time.time()\n",
    "\n",
    "    myg.datafolder = datafolder\n",
    "    myg.day = day    \n",
    "    myg.cuvette = 2000   \n",
    "\n",
    "    for w in ['d32dt', 'd49dt', 'd47dt', 'd45dt', 'd44dt', 'dtotalCO2dt', 'totalCO2', 'enrichrate49','Mass45','Mass47','Mass49','Mass44','Mass40','totalCO2']:\n",
    "        myg.individual_graphs([w])\n",
    "        \n",
    "    myg.individual_graphs(['Mass45','Mass47','Mass49','Mass44','totalCO2'])\n",
    "\n",
    "    print(day, time.time() - b2)\n",
    "\n",
    "print('total',time.time() - b1)"
   ]
  },
  {
   "cell_type": "code",
   "execution_count": null,
   "metadata": {
    "collapsed": true
   },
   "outputs": [],
   "source": [
    "myg.individual_graphs(['Mass45','Mass47','Mass49','Mass44','totalCO2'])"
   ]
  },
  {
   "cell_type": "code",
   "execution_count": null,
   "metadata": {
    "collapsed": true
   },
   "outputs": [],
   "source": [
    "# Compiled 20160216\n",
    "b1=time.time()\n",
    "\n",
    "datafolder = \"C:\\\\Users\\\\U5040252\\\\My Documents\\\\Projects\\\\Mass_Spec_Data\\\\\"\n",
    "day='20160216'\n",
    "\n",
    "myg = myGraphs.myGraphs()\n",
    "myg.datafolder = datafolder\n",
    "myg.day = day\n",
    "myg.cuvette = 2000   \n",
    "\n",
    "# compiled graphs\n",
    "for w in ['d32dt', 'd49dt', 'd47dt', 'd45dt', 'd44dt', 'dtotalCO2dt', 'totalCO2', 'enrichrate49']:\n",
    "    myg.compiled_graphs(what = [w], which = ['cc125m_1','cc125m_2','cc125m_4'])\n",
    "    myg.compiled_graphs(what = [w], which = ['cc125m_1_2','cc125m_2_2','cc125m_4_2'])\n",
    "    myg.compiled_graphs(what = [w], which = ['cc125m_1_3','cc125m_4_3'])\n",
    "    myg.compiled_graphs(what = [w], which = ['cc125m_1_4','cc125m_4white'])\n",
    "\n",
    "print('total', 'day', time.time() - b1)"
   ]
  },
  {
   "cell_type": "code",
   "execution_count": null,
   "metadata": {
    "collapsed": true
   },
   "outputs": [],
   "source": [
    "# Compiled 20160219\n",
    "b1=time.time()\n",
    "\n",
    "datafolder = \"C:\\\\Users\\\\U5040252\\\\My Documents\\\\Projects\\\\Mass_Spec_Data\\\\\"\n",
    "day='20160219'\n",
    "\n",
    "myg = myGraphs.myGraphs()\n",
    "myg.datafolder = datafolder\n",
    "myg.day = day\n",
    "myg.cuvette = 2000   \n",
    "\n",
    "# compiled graphs\n",
    "for w in ['d32dt', 'd49dt', 'd47dt', 'd45dt', 'd44dt', 'dtotalCO2dt', 'totalCO2', 'enrichrate49']:\n",
    "    myg.compiled_graphs(what = [w], which = ['cc125m_1','cc125m_2','cc125m_3'])\n",
    "\n",
    "print('total', 'day', time.time() - b1)"
   ]
  },
  {
   "cell_type": "code",
   "execution_count": null,
   "metadata": {
    "collapsed": true
   },
   "outputs": [],
   "source": [
    "# Compiled 20160224\n",
    "b1=time.time()\n",
    "\n",
    "datafolder = \"C:\\\\Users\\\\U5040252\\\\My Documents\\\\Projects\\\\Mass_Spec_Data\\\\\"\n",
    "day='20160224'\n",
    "\n",
    "myg = myGraphs.myGraphs()\n",
    "myg.datafolder = datafolder\n",
    "myg.day = day\n",
    "myg.cuvette = 2000   \n",
    "\n",
    "# compiled graphs\n",
    "for w in ['d32dt', 'd49dt', 'd47dt', 'd45dt', 'd44dt', 'dtotalCO2dt', 'totalCO2', 'enrichrate49']:\n",
    "    myg.compiled_graphs(what = [w], which = ['cc125m_1','cc125m_2','cc125m_3','cc125m_4'])\n",
    "    myg.compiled_graphs(what = [w], which = ['cc125m_1','cc125m_2','cc125m_3','cc125m_4','cc125m_5'])\n",
    "    myg.compiled_graphs(what = [w], which = ['cc125m_4','cc125m_5'])\n",
    "\n",
    "print('total', 'day', time.time() - b1)"
   ]
  },
  {
   "cell_type": "code",
   "execution_count": null,
   "metadata": {
    "collapsed": true
   },
   "outputs": [],
   "source": [
    "myg.sample_list()"
   ]
  },
  {
   "cell_type": "code",
   "execution_count": null,
   "metadata": {
    "collapsed": true
   },
   "outputs": [],
   "source": [
    "myg.create_masterdf(derive=True)"
   ]
  },
  {
   "cell_type": "code",
   "execution_count": null,
   "metadata": {
    "collapsed": false
   },
   "outputs": [],
   "source": [
    "myg.denoise_data(derive=False)"
   ]
  },
  {
   "cell_type": "code",
   "execution_count": null,
   "metadata": {
    "collapsed": true
   },
   "outputs": [],
   "source": [
    "# for w in ['d32dt', 'd49dt', 'd47dt', 'd45dt', 'd44dt', 'dtotalCO2dt', 'enrichrate49']:\n",
    "#     mygraph.compiled_graphs(what = [w], which = ['cc125m_1','cc125m_2','cc125m_3'])\n",
    "#     mygraph.compiled_graphs(what = [w+\"_corr\"], which = ['cc125m_1','cc125m_2','cc125m_3'])\n",
    "#     mygraph.individual_graphs([w])"
   ]
  },
  {
   "cell_type": "code",
   "execution_count": null,
   "metadata": {
    "collapsed": false
   },
   "outputs": [],
   "source": [
    "myg.individual_graphs(['d32dt'])"
   ]
  },
  {
   "cell_type": "code",
   "execution_count": null,
   "metadata": {
    "collapsed": false
   },
   "outputs": [],
   "source": [
    "for w in ['d32dt', 'd49dt', 'd47dt', 'd45dt', 'd44dt', 'dtotalCO2dt', 'enrichrate49']:\n",
    "    myg.compiled_graphs(what = [w], which = ['cc125m_1','cc125m_2','cc125m_4'])\n",
    "    myg.compiled_graphs(what = [w], which = ['cc125m_1_2','cc125m_2_2','cc125m_4_2'])\n",
    "    myg.compiled_graphs(what = [w], which = ['cc125m_1_3','cc125m_4_3'])\n",
    "    myg.compiled_graphs(what = [w], which = ['cc125m_4','cc125m_4_white'])\n",
    "    myg.individual_graphs([w])"
   ]
  },
  {
   "cell_type": "code",
   "execution_count": null,
   "metadata": {
    "collapsed": true
   },
   "outputs": [],
   "source": [
    "myg.compiled_graphs(what = ['d32dt_cons'], which = ['cc125m_1','cc125m_2','cc125m_3'])"
   ]
  },
  {
   "cell_type": "code",
   "execution_count": 10,
   "metadata": {
    "collapsed": false
   },
   "outputs": [
    {
     "data": {
      "text/html": [
       "<div>\n",
       "<table border=\"1\" class=\"dataframe\">\n",
       "  <thead>\n",
       "    <tr style=\"text-align: right;\">\n",
       "      <th></th>\n",
       "      <th>samplename</th>\n",
       "      <th>user</th>\n",
       "      <th>filename</th>\n",
       "      <th>cuvette</th>\n",
       "      <th>membraneid</th>\n",
       "      <th>myDateTime</th>\n",
       "      <th>rawdatafile</th>\n",
       "      <th>datafile</th>\n",
       "      <th>chl</th>\n",
       "    </tr>\n",
       "  </thead>\n",
       "  <tbody>\n",
       "    <tr>\n",
       "      <th>0</th>\n",
       "      <td>cc125m_1</td>\n",
       "      <td>Vincent</td>\n",
       "      <td>20160219_cc125m_1.csv</td>\n",
       "      <td>2000</td>\n",
       "      <td>16</td>\n",
       "      <td>2016-02-19 13:28:02</td>\n",
       "      <td>C:\\Users\\U5040252\\My Documents\\Projects\\Mass_S...</td>\n",
       "      <td>C:\\Users\\U5040252\\My Documents\\Projects\\Mass_S...</td>\n",
       "      <td>0.795</td>\n",
       "    </tr>\n",
       "    <tr>\n",
       "      <th>1</th>\n",
       "      <td>cc125m_2</td>\n",
       "      <td>Vincent</td>\n",
       "      <td>20160219_cc125m_2.csv</td>\n",
       "      <td>2000</td>\n",
       "      <td>16</td>\n",
       "      <td>2016-02-19 13:42:12</td>\n",
       "      <td>C:\\Users\\U5040252\\My Documents\\Projects\\Mass_S...</td>\n",
       "      <td>C:\\Users\\U5040252\\My Documents\\Projects\\Mass_S...</td>\n",
       "      <td>0.723</td>\n",
       "    </tr>\n",
       "    <tr>\n",
       "      <th>2</th>\n",
       "      <td>cc125m_3</td>\n",
       "      <td>Vincent</td>\n",
       "      <td>20160219_cc125m_3.csv</td>\n",
       "      <td>2000</td>\n",
       "      <td>16</td>\n",
       "      <td>2016-02-19 13:55:50</td>\n",
       "      <td>C:\\Users\\U5040252\\My Documents\\Projects\\Mass_S...</td>\n",
       "      <td>C:\\Users\\U5040252\\My Documents\\Projects\\Mass_S...</td>\n",
       "      <td>0.823</td>\n",
       "    </tr>\n",
       "  </tbody>\n",
       "</table>\n",
       "</div>"
      ],
      "text/plain": [
       "  samplename     user               filename  cuvette  membraneid  \\\n",
       "0   cc125m_1  Vincent  20160219_cc125m_1.csv     2000          16   \n",
       "1   cc125m_2  Vincent  20160219_cc125m_2.csv     2000          16   \n",
       "2   cc125m_3  Vincent  20160219_cc125m_3.csv     2000          16   \n",
       "\n",
       "            myDateTime                                        rawdatafile  \\\n",
       "0  2016-02-19 13:28:02  C:\\Users\\U5040252\\My Documents\\Projects\\Mass_S...   \n",
       "1  2016-02-19 13:42:12  C:\\Users\\U5040252\\My Documents\\Projects\\Mass_S...   \n",
       "2  2016-02-19 13:55:50  C:\\Users\\U5040252\\My Documents\\Projects\\Mass_S...   \n",
       "\n",
       "                                            datafile    chl  \n",
       "0  C:\\Users\\U5040252\\My Documents\\Projects\\Mass_S...  0.795  \n",
       "1  C:\\Users\\U5040252\\My Documents\\Projects\\Mass_S...  0.723  \n",
       "2  C:\\Users\\U5040252\\My Documents\\Projects\\Mass_S...  0.823  "
      ]
     },
     "execution_count": 10,
     "metadata": {},
     "output_type": "execute_result"
    }
   ],
   "source": [
    "samples"
   ]
  },
  {
   "cell_type": "code",
   "execution_count": 16,
   "metadata": {
    "collapsed": false
   },
   "outputs": [
    {
     "name": "stdout",
     "output_type": "stream",
     "text": [
      "cc125m_1 C:\\Users\\U5040252\\My Documents\\Projects\\Mass_Spec_Data\\20160219\\20160219_cc125m_1.csv\n",
      "cc125m_2 C:\\Users\\U5040252\\My Documents\\Projects\\Mass_Spec_Data\\20160219\\20160219_cc125m_2.csv\n",
      "cc125m_3 C:\\Users\\U5040252\\My Documents\\Projects\\Mass_Spec_Data\\20160219\\20160219_cc125m_3.csv\n"
     ]
    }
   ],
   "source": [
    "for s in samples.iterrows():\n",
    "    dfs[s] = pd.read_csv(s[1]['datafile']), encoding=self.encoding)\n",
    "    print(s[1]['samplename'],s[1]['datafile'])\n"
   ]
  },
  {
   "cell_type": "code",
   "execution_count": 193,
   "metadata": {
    "collapsed": false
   },
   "outputs": [],
   "source": [
    "import os\n",
    "import glob\n",
    "import pandas as pd\n",
    "import numpy as np\n",
    "\n",
    "\n",
    "def compile_samplefiles(datafolder = 'C:\\\\Users\\\\U5040252\\\\My Documents\\\\Projects\\\\Mass_Spec_Data\\\\', dfilter='2016'):\n",
    "    \"\"\"\n",
    "    compiles all the sample files (cleaned) into one master file\n",
    "    :param datafolder: folder that contains day subfolders\n",
    "    :param start: filtering of the subfolder to include or not. example: 2016 for only 2016 files. 201602 for\n",
    "                    files from february 2016.\n",
    "    :return: creates a master samplefile in datafolder called start + 'master_samplefile.csv'\n",
    "    \"\"\"\n",
    "\n",
    "    master_samplefile = datafolder + \"\\\\\" + dfilter + \"_master_samplefile.csv\"\n",
    "    master_samplefile_cleaned = datafolder + \"\\\\\" + dfilter + \"_master_samplefile_cleaned.csv\"\n",
    "\n",
    "    master = pd.read_csv(master_samplefile) if os.path.isfile(master_samplefile) else pd.DataFrame()\n",
    "    master_cleaned = pd.read_csv(master_samplefile_cleaned) if os.path.isfile(master_samplefile_cleaned) else pd.DataFrame()\n",
    "        \n",
    "        \n",
    "    for d in glob.glob(datafolder + '\\\\' + dfilter + '*'):\n",
    "        if os.path.isdir(d):\n",
    "            day = d.split(\"\\\\\")[-1]\n",
    "            \n",
    "            samplefile = d + '\\\\' + day + \"_SAMPLES.csv\"\n",
    "            samplefile_cleaned = d + '\\\\_' + day + \"_SAMPLE_cleaned.csv\"\n",
    "            \n",
    "            if os.path.isfile(samplefile):\n",
    "                tmp=pd.read_csv(samplefile)\n",
    "                if 'date' not in master.columns:\n",
    "                    master = tmp\n",
    "                elif day not in set(master.date.apply(lambda x:str(x))):\n",
    "                    master = master.append(tmp, ignore_index =True)\n",
    "\n",
    "            if os.path.isfile(samplefile_cleaned):\n",
    "                tmp2=pd.read_csv(samplefile_cleaned)\n",
    "                tmp2['day'] = str(day)\n",
    "                if 'day' not in master_cleaned.columns:\n",
    "                    master_cleaned = tmp2\n",
    "\n",
    "                elif not day in set(master_cleaned.day.apply(lambda x:str(x))):\n",
    "                    master_cleaned = master_cleaned.append(tmp2, ignore_index =True)\n",
    "\n",
    "                    \n",
    "    master.reset_index()\n",
    "    master.to_csv(master_samplefile, index = False)\n",
    "   \n",
    "    master_cleaned.reset_index()\n",
    "    master_cleaned.to_csv(master_samplefile_cleaned, index = False)\n",
    "      \n",
    "compile_samplefiles(datafolder = 'C:\\\\Users\\\\U5040252\\\\My Documents\\\\Projects\\\\Mass_Spec_Data\\\\', dfilter='2015')  "
   ]
  }
 ],
 "metadata": {
  "kernelspec": {
   "display_name": "Python 3",
   "language": "python",
   "name": "python3"
  },
  "language_info": {
   "codemirror_mode": {
    "name": "ipython",
    "version": 3
   },
   "file_extension": ".py",
   "mimetype": "text/x-python",
   "name": "python",
   "nbconvert_exporter": "python",
   "pygments_lexer": "ipython3",
   "version": "3.5.1"
  }
 },
 "nbformat": 4,
 "nbformat_minor": 0
}
