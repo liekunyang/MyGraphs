{
 "cells": [
  {
   "cell_type": "markdown",
   "metadata": {},
   "source": [
    "# MS consumption"
   ]
  },
  {
   "cell_type": "code",
   "execution_count": null,
   "metadata": {
    "collapsed": true
   },
   "outputs": [],
   "source": [
    "\n",
    "import os\n",
    "import time\n",
    "import re\n",
    "\n",
    "import numpy as np\n",
    "import pandas as pd\n",
    "from matplotlib import pyplot as plt\n",
    "from matplotlib import style\n",
    "from scipy import stats\n",
    "\n",
    "\n",
    "reffiles2000 = ['C:\\\\Users\\\\u5040252\\\\My Documents\\\\Projects\\\\Mass_Spec_Data\\\\20160301\\\\20160301_conso2000.csv',\n",
    "                'C:\\\\Users\\\\u5040252\\\\My Documents\\\\Projects\\\\Mass_Spec_Data\\\\20160307\\\\20160307_conso2000.csv',\n",
    "                'C:\\\\Users\\\\u5040252\\\\My Documents\\\\Projects\\\\Mass_Spec_Data\\\\20160302\\\\20160302_conso2000.csv']\n",
    "# reffiles2000 = ['C:\\\\Users\\\\u5040252\\\\My Documents\\\\Projects\\\\Mass_Spec_Data\\\\20160301\\\\20160301_conso2000.csv',\n",
    "#                 'C:\\\\Users\\\\u5040252\\\\My Documents\\\\Projects\\\\Mass_Spec_Data\\\\20160204\\\\20160204_cons2000b.csv',\n",
    "#                 'C:\\\\Users\\\\u5040252\\\\My Documents\\\\Projects\\\\Mass_Spec_Data\\\\20151014\\\\20151014_calO2.csv',\n",
    "#                'C:\\\\Users\\\\u5040252\\\\My Documents\\\\Projects\\\\Mass_Spec_Data\\\\20151209\\\\20151209_oxygen_cons_1.csv',\n",
    "#                'C:\\\\Users\\\\u5040252\\\\My Documents\\\\Projects\\\\Mass_Spec_Data\\\\20151209\\\\20151209_oxygen_cons_2.csv',\n",
    "#                'C:\\\\Users\\\\u5040252\\\\My Documents\\\\Projects\\\\Mass_Spec_Data\\\\20151209\\\\20151209_oxygen_cons_4.csv',\n",
    "#                'C:\\\\Users\\\\u5040252\\\\My Documents\\\\Projects\\\\Mass_Spec_Data\\\\20151209\\\\20151209_oxygen_cons_6.csv',\n",
    "#                'C:\\\\Users\\\\u5040252\\\\My Documents\\\\Projects\\\\Mass_Spec_Data\\\\20160203\\\\20160203_Argon.csv']\n",
    "\n",
    "reffiles600 = ['C:\\\\Users\\\\u5040252\\\\My Documents\\\\Projects\\\\Mass_Spec_Data\\\\20160204\\\\20160204_cons600.csv',\n",
    "               'C:\\\\Users\\\\u5040252\\\\My Documents\\\\Projects\\\\Mass_Spec_Data\\\\20151016\\\\\\20151016_model_argon_600_1.csv']\n",
    "\n",
    "def rolling_linear_reg( x, y):\n",
    "        r = np.zeros(len(x))\n",
    "        r[:] = np.NAN\n",
    "        myrange = range(int(60 / 2), len(x) - int(60 / 2))\n",
    "\n",
    "        a = np.vstack([x, np.ones(len(x))]).T\n",
    "        for i in myrange:\n",
    "            r[i] = np.linalg.lstsq(a[i:i + 60], y[i:i + 60])[0][0]\n",
    "        return r\n",
    "    \n",
    "def consumption_params(reffile, limit=7200):\n",
    "        df = pd.read_csv(reffile, encoding='ISO-8859-1')\n",
    "\n",
    "        if 'time2' not in df.columns:\n",
    "            df['time2'] = df['time']\n",
    "            \n",
    "        df = df[['time2', 'Mass32', 'Mass40']]\n",
    "            \n",
    "        if df.time2.max() > limit:\n",
    "            df = df.loc[df.time2 < limit, :]\n",
    "\n",
    "        df['d32dt'] = rolling_linear_reg(df.time2, df['Mass32'])\n",
    "        df['d40dt'] = rolling_linear_reg(df.time2, df['Mass40'])\n",
    "\n",
    "        # calculate slope d32dt = f(Mass32) and d40dt = f(Mass40)\n",
    "        x32, y32 = np.array(df.loc[df.d32dt.notnull(), \"Mass32\"]), np.array(df.loc[df.d32dt.notnull(), \"d32dt\"])\n",
    "        x40, y40 = np.array(df.loc[df.d40dt.notnull(), \"Mass40\"]), np.array(df.loc[df.d40dt.notnull(), \"d40dt\"])\n",
    "\n",
    "        f32 = np.linalg.lstsq(x32[:, np.newaxis], y32)[0][0]\n",
    "        f40 = np.linalg.lstsq(x40[:, np.newaxis], y40)[0][0]\n",
    "\n",
    "#         with open(self.paramfile, \"w\") as f:\n",
    "#             f.write(\"\".join([str(f32), \"\\n\", str(se.f40)]))\n",
    "        return f32, f40\n"
   ]
  },
  {
   "cell_type": "code",
   "execution_count": null,
   "metadata": {
    "collapsed": true
   },
   "outputs": [],
   "source": [
    "# reference files for 600 uL cuvette\n",
    "b1=time.time()\n",
    "\n",
    "for f in reffiles2000:\n",
    "    if os.path.isfile(f):\n",
    "        b2=time.time()\n",
    "        f32, f40 =  consumption_params(f)\n",
    "        print(f.split(\"\\\\\")[-1], f32, f40, time.time() - b2)\n",
    "    else:\n",
    "        print(\"couldn't find: \" + f)\n",
    "    \n",
    "print(time.time() - b1)"
   ]
  },
  {
   "cell_type": "code",
   "execution_count": null,
   "metadata": {
    "collapsed": true
   },
   "outputs": [],
   "source": [
    "# reference files for 2000 uL cuvette\n",
    "b1=time.time()\n",
    "\n",
    "\n",
    "for f in reffiles600:\n",
    "    b2=time.time()\n",
    "    \n",
    "    if os.path.isfile(f):\n",
    "        f32, f40 =  consumption_params(f)\n",
    "    print(f.split(\"\\\\\")[-1], f32, f40, time.time() - b2)\n",
    "    \n",
    "    \n",
    "print(time.time() - b1)"
   ]
  }
 ],
 "metadata": {
  "kernelspec": {
   "display_name": "Python 3",
   "language": "python",
   "name": "python3"
  },
  "language_info": {
   "codemirror_mode": {
    "name": "ipython",
    "version": 3
   },
   "file_extension": ".py",
   "mimetype": "text/x-python",
   "name": "python",
   "nbconvert_exporter": "python",
   "pygments_lexer": "ipython3",
   "version": "3.5.1"
  }
 },
 "nbformat": 4,
 "nbformat_minor": 0
}
