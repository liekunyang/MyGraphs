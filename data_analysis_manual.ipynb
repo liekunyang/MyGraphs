{
 "cells": [
  {
   "cell_type": "code",
   "execution_count": 27,
   "metadata": {
    "collapsed": true
   },
   "outputs": [],
   "source": [
    "import matplotlib.pyplot as plt\n",
    "import pandas as pd\n",
    "import numpy as np\n"
   ]
  },
  {
   "cell_type": "code",
   "execution_count": 55,
   "metadata": {
    "collapsed": false
   },
   "outputs": [],
   "source": [
    "data = pd.read_csv(\"C:\\\\Users\\\\u5040252\\\\My Documents\\\\Projects\\\\Mass_Spec_Data\\\\201603082\\\\201603082_cc1860_air4h_t2.csv\", encoding='ISO-8859-1')\n",
    "data2 = pd.read_csv(\"C:\\\\Users\\\\u5040252\\\\My Documents\\\\Projects\\\\Mass_Spec_Data\\\\201603082\\\\denoised_data\\\\201603082_cc1860_air4h_t2.csv\", encoding='ISO-8859-1')\n"
   ]
  },
  {
   "cell_type": "code",
   "execution_count": 56,
   "metadata": {
    "collapsed": false
   },
   "outputs": [],
   "source": [
    "\n",
    "ax1 = plt.subplot2grid((4,1),(0,0))\n",
    "ax1.plot(np.array(data.time), np.array(data.d40dt),'b-', alpha=0.3)\n",
    "ax1.plot(np.array(data2.time), np.array(data2.d40dt),'b-')\n",
    "\n",
    "ax2 = plt.subplot2grid((4,1),(1,0), rowspan=3, sharex = ax1)\n",
    "ax2.plot(data.time, data.d32dt_cons, 'r-', alpha=0.3)\n",
    "ax2.plot(data.time, data.d32dt_corr, 'g-', alpha=0.3)\n",
    "ax2.plot(data2.time, data2.d32dt_cons,'r-')\n",
    "ax2.plot(data.time, data.d32dt,'g-')\n",
    "\n",
    "plt.show()"
   ]
  },
  {
   "cell_type": "code",
   "execution_count": 24,
   "metadata": {
    "collapsed": true
   },
   "outputs": [],
   "source": []
  },
  {
   "cell_type": "code",
   "execution_count": 60,
   "metadata": {
    "collapsed": false
   },
   "outputs": [],
   "source": [
    "import yaml"
   ]
  },
  {
   "cell_type": "code",
   "execution_count": 63,
   "metadata": {
    "collapsed": false
   },
   "outputs": [],
   "source": [
    "with open(\"c:\\\\temp\\\\test.yaml\", 'r') as stream:\n",
    "    try:\n",
    "        config = yaml.load(stream)\n",
    "    except yaml.YAMLError as exc:\n",
    "        print(exc)"
   ]
  },
  {
   "cell_type": "code",
   "execution_count": 66,
   "metadata": {
    "collapsed": false
   },
   "outputs": [
    {
     "data": {
      "text/plain": [
       "[250, 0, 0]"
      ]
     },
     "execution_count": 66,
     "metadata": {},
     "output_type": "execute_result"
    }
   ],
   "source": [
    "courbeColors = config['courbeColors']\n",
    "courbeColors['Mass32']"
   ]
  },
  {
   "cell_type": "code",
   "execution_count": 92,
   "metadata": {
    "collapsed": false,
    "scrolled": true
   },
   "outputs": [
    {
     "name": "stdout",
     "output_type": "stream",
     "text": [
      "PROGRAMFILES C:\\Program Files\n",
      "NUMBER_OF_PROCESSORS 8\n",
      "LOGONSERVER \\\\UDSDC03\n",
      "IPY_INTERRUPT_EVENT 3068\n",
      "LSHOST NO-NET:rsbcore.uds.anu.edu.au\n",
      "JPY_PARENT_PID 3080\n",
      "HOMEDRIVE C:\n",
      "FP_NO_HOST_CHECK NO\n",
      "COMMONPROGRAMW6432 C:\\Program Files\\Common Files\n",
      "ALLUSERSPROFILE C:\\ProgramData\n",
      "PROCESSOR_REVISION 3c03\n",
      "PATHEXT .COM;.EXE;.BAT;.CMD;.VBS;.VBE;.JS;.JSE;.WSF;.WSH;.MSC\n",
      "USERDNSDOMAIN UDS.ANU.EDU.AU\n",
      "CLICOLOR 1\n",
      "LOCALAPPDATA C:\\Users\\u5040252\\AppData\\Local\n",
      "SESSIONNAME Console\n",
      "OS Windows_NT\n",
      "COMSPEC C:\\Windows\\system32\\cmd.exe\n",
      "PROCESSOR_ARCHITECTURE AMD64\n",
      "SYSTEMDRIVE C:\n",
      "FOR_DISABLE_CONSOLE_CTRL_HANDLER 1\n",
      "TURBOACTIVATE_LIBRARY C:\\Program Files\\Ocean Optics\\OceanView/oceanview/oceanview/modules/lib\n",
      "PROGRAMDATA C:\\ProgramData\n",
      "HOMEPATH \\Users\\u5040252\n",
      "TMP C:\\Users\\u5040252\\AppData\\Local\\Temp\n",
      "PUBLIC C:\\Users\\Public\n",
      "WINDIR C:\\Windows\n",
      "COMPUTERNAME RSB0001194\n",
      "PATH C:\\Anaconda3\\lib\\site-packages\\numpy\\core;C:\\Anaconda3\\Library\\bin;C:\\Anaconda3\\Library\\bin;%SystemRoot%\\system32\\WindowsPowerShell\\v1.0\\;C:\\Program Files\\copasi.org\\COPASI 4.16.104\\bin;C:\\ProgramData\\Oracle\\Java\\javapath;C:\\Windows\\system32;C:\\Windows;C:\\Windows\\System32\\Wbem;C:\\Windows\\System32\\WindowsPowerShell\\v1.0\\;C:\\Program Files (x86)\\ATI Technologies\\ATI.ACE\\Core-Static;C:\\Program Files (x86)\\QuickTime\\QTSystem\\;C:\\Anaconda3;C:\\Anaconda3\\Scripts;C:\\Anaconda3\\Library\\bin;C:\\Program Files\\MiKTeX 2.9\\miktex\\bin\\x64\\;C:\\Program Files (x86)\\AMD\\ATI.ACE\\Core-Static\n",
      "TERM xterm-color\n",
      "PSMODULEPATH \\\\franklin.uds.anu.edu.au\\home\\u5040252\\My Documents\\WindowsPowerShell\\Modules;C:\\Windows\\system32\\WindowsPowerShell\\v1.0\\Modules\\\n",
      "USERNAME u5040252\n",
      "PAGER cat\n",
      "APPDATA C:\\Users\\u5040252\\AppData\\Roaming\n",
      "USERDOMAIN UDS\n",
      "TEMP C:\\Users\\u5040252\\AppData\\Local\\Temp\n",
      "JPY_INTERRUPT_EVENT 3068\n",
      "SYSTEMROOT C:\\Windows\n",
      "PROCESSOR_LEVEL 6\n",
      "COMMONPROGRAMFILES(X86) C:\\Program Files (x86)\\Common Files\n",
      "GIT_PAGER cat\n",
      "COMMONPROGRAMFILES C:\\Program Files\\Common Files\n",
      "USERPROFILE C:\\Users\\u5040252\n",
      "PROGRAMFILES(X86) C:\\Program Files (x86)\n",
      "PROGRAMW6432 C:\\Program Files\n",
      "COPASIDIR C:\\Program Files\\copasi.org\\COPASI 4.16.104\n",
      "ASL.LOG Destination=file\n",
      "PROCESSOR_IDENTIFIER Intel64 Family 6 Model 60 Stepping 3, GenuineIntel\n"
     ]
    },
    {
     "data": {
      "text/plain": [
       "'C:\\\\Users\\\\u5040252\\\\config_dacq.yaml'"
      ]
     },
     "execution_count": 92,
     "metadata": {},
     "output_type": "execute_result"
    }
   ],
   "source": [
    "import os\n",
    "# from pprint import pprint\n",
    "\n",
    "for k in os.environ:\n",
    "    print(k, os.environ[k])\n",
    "\n",
    "os.path.join(os.environ['USERPROFILE'], 'config_dacq.yaml')"
   ]
  },
  {
   "cell_type": "code",
   "execution_count": 121,
   "metadata": {
    "collapsed": true
   },
   "outputs": [],
   "source": [
    "courbeColors = {\"Mass32\":[250,0,0],\n",
    "                  \"Mass40\":[200,150,0],\n",
    "                  \"Mass44\":[0,250,0],\n",
    "                  \"Mass45\":[50,200,250],\n",
    "                  \"Mass46\":[250,150,250],\n",
    "                  \"Mass47\":[0,100,250],\n",
    "                  \"Mass49\":[100,0,250],\n",
    "                  \"totalCO2\":[0,0,0],\n",
    "                  \"logE49\":[100,100,100],\n",
    "                  \"d32dt\":[250,0,0],\n",
    "                  \"d40dt\":[200,150,0],\n",
    "                  \"d44dt\":[0,250,0],\n",
    "                  \"d45dt\":[50,200,250],\n",
    "                  \"d46dt\":[250,150,250],\n",
    "                  \"d47dt\":[0,100,250],\n",
    "                  \"d49dt\":[100,0,250],\n",
    "                  \"dtotalCO2dt\":[0,0,0],\n",
    "                  \"logE47\":[100,100,100],\n",
    "                  \"enrichrate47\":[0,100,250],\n",
    "                  \"enrichrate49\":[100,0,250]\n",
    "                  }\n",
    "precision=6\n",
    "portCOM=0\n",
    "xscale = \"sec\"\n",
    "\n",
    "\n",
    "\n"
   ]
  },
  {
   "cell_type": "code",
   "execution_count": 122,
   "metadata": {
    "collapsed": false
   },
   "outputs": [],
   "source": [
    "data = dict(\n",
    "    courbeColors = courbeColors,\n",
    "    precision = precision,\n",
    "    portCOM = portCOM,\n",
    "    xscale = xscale\n",
    ")"
   ]
  },
  {
   "cell_type": "code",
   "execution_count": 123,
   "metadata": {
    "collapsed": false
   },
   "outputs": [
    {
     "data": {
      "text/plain": [
       "('C:\\\\Users\\\\u5040252\\\\dAcq\\\\config_dacq.yaml', 'C:\\\\Users\\\\u5040252\\\\dAcq')"
      ]
     },
     "execution_count": 123,
     "metadata": {},
     "output_type": "execute_result"
    }
   ],
   "source": [
    "cfgfolder = os.path.join(os.environ['USERPROFILE'], 'dAcq')\n",
    "cfgfile = os.path.join(cfgfolder, 'config_dacq.yaml')\n",
    "\n",
    "\n",
    "if not os.path.isfile(cfgfile):\n",
    "    if not os.path.isdir(cfgfolder):\n",
    "        os.makedirs(os.path.join(cfgfolder))\n",
    "        \n",
    "        \n",
    "\n",
    "cfgfile, cfgfolder"
   ]
  },
  {
   "cell_type": "code",
   "execution_count": 128,
   "metadata": {
    "collapsed": false
   },
   "outputs": [],
   "source": [
    "with open(cfgfile, 'w') as outfile:\n",
    "    outfile.write( yaml.dump(data))"
   ]
  },
  {
   "cell_type": "code",
   "execution_count": 116,
   "metadata": {
    "collapsed": false
   },
   "outputs": [
    {
     "data": {
      "text/plain": [
       "'C:\\\\Users\\\\u5040252'"
      ]
     },
     "execution_count": 116,
     "metadata": {},
     "output_type": "execute_result"
    }
   ],
   "source": [
    "drive, path = os.path.splitdrive(os.environ['USERPROFILE'])\n",
    "os.path.join(drive, path)"
   ]
  },
  {
   "cell_type": "code",
   "execution_count": null,
   "metadata": {
    "collapsed": true
   },
   "outputs": [],
   "source": [
    "os.environ['USERPROFILE']"
   ]
  }
 ],
 "metadata": {
  "kernelspec": {
   "display_name": "Python 3",
   "language": "python",
   "name": "python3"
  },
  "language_info": {
   "codemirror_mode": {
    "name": "ipython",
    "version": 3
   },
   "file_extension": ".py",
   "mimetype": "text/x-python",
   "name": "python",
   "nbconvert_exporter": "python",
   "pygments_lexer": "ipython3",
   "version": "3.5.1"
  }
 },
 "nbformat": 4,
 "nbformat_minor": 0
}
