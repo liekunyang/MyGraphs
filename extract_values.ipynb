{
 "cells": [
  {
   "cell_type": "markdown",
   "metadata": {},
   "source": [
    "# Import libraries"
   ]
  },
  {
   "cell_type": "code",
   "execution_count": 2,
   "metadata": {
    "collapsed": true
   },
   "outputs": [],
   "source": [
    "import sys\n",
    "myFunctionsFolder = \"C:\\\\Users\\\\u5040252\\\\CloudStation\\\\Dropbox\\\\data Vincent\\\\Python\\\\myFunctions\\\\\"\n",
    "if not  myFunctionsFolder in sys.path:\n",
    "    sys.path.append(myFunctionsFolder)\n",
    "    \n",
    "\n",
    "\n",
    "    \n",
    "# from denoising import denoise_df, rolling_linear_reg, myround\n",
    "from MyGraphs import *\n",
    "import pandas as pd\n",
    "import time\n",
    "import os\n",
    "import glob\n",
    "from  collections import *\n",
    "\n",
    "% matplotlib qt"
   ]
  },
  {
   "cell_type": "markdown",
   "metadata": {},
   "source": [
    "# folders and variables"
   ]
  },
  {
   "cell_type": "code",
   "execution_count": 80,
   "metadata": {
    "collapsed": true
   },
   "outputs": [],
   "source": [
    "datafolder = \"C:\\\\Users\\\\U5040252\\\\Cloudstation\\\\Projects\\\\Mass_Spec_Data\\\\2016\\\\\"\n",
    "pattern = '20160525'  #date pattern. Examples: '2016', '201601', '20160331'"
   ]
  },
  {
   "cell_type": "markdown",
   "metadata": {},
   "source": [
    "# Extract values from graphs"
   ]
  },
  {
   "cell_type": "code",
   "execution_count": 81,
   "metadata": {
    "collapsed": false
   },
   "outputs": [
    {
     "data": {
      "text/plain": [
       "'C:\\\\Users\\\\U5040252\\\\Cloudstation\\\\Projects\\\\Mass_Spec_Data\\\\2016\\\\20160525\\\\_20160525_SAMPLE_cleaned.csv'"
      ]
     },
     "execution_count": 81,
     "metadata": {},
     "output_type": "execute_result"
    }
   ],
   "source": [
    "day = pattern\n",
    "samplefile = os.path.join(datafolder, day, \"\".join([\"_\", day,\"_SAMPLE_cleaned.csv\"]))\n",
    "samplefile"
   ]
  },
  {
   "cell_type": "code",
   "execution_count": 82,
   "metadata": {
    "collapsed": false
   },
   "outputs": [],
   "source": [
    "if os.path.isfile(samplefile):\n",
    "    samples = pd.read_csv(samplefile)"
   ]
  },
  {
   "cell_type": "code",
   "execution_count": 87,
   "metadata": {
    "collapsed": false
   },
   "outputs": [],
   "source": [
    "out = pd.DataFrame(columns=['file','nc,','inj_peak','dark1_steady', 'light_high', 'light_low', 'light_steady', 'dark2_high', 'dark2_low'])\n",
    "\n",
    "if not os.path.isfile(os.path.join(datafolder, day,'results')):\n",
    "    os.makedirs(os.path.join(datafolder, day,'results'))\n",
    "    \n",
    "for f in list(samples.datafile):\n",
    "#     print(f)\n",
    "    \n",
    "    df = pd.read_csv(f, encoding='ISO-8859-1')\n",
    "    \n",
    "    \n",
    "    for _, r in df.loc[df.eventtype.notnull(), ['time', 'eventtype']].iterrows():\n",
    "        if r['eventtype'] == 'CELLS':\n",
    "            \n",
    "            # non catalytic = just before cell injection\n",
    "            nc = df.loc[(df.time >= (r['time']-10)) & (df.time< r['time']-3), 'enrichrate49'].mean()\n",
    "            \n",
    "            # inection_peak = minimum for 100 seconds after injection\n",
    "            inj_peak = df.loc[(df.time >= (r['time'])) & (df.time < r['time']+100), 'enrichrate49'].min()\n",
    "            \n",
    "            \n",
    "        elif r['eventtype'] == 'LIGHT ON':\n",
    "            # steady rate in the dark before light on\n",
    "            dark1_steady = df.loc[(df.time >= (r['time']-10)) & (df.time< r['time']-3), 'enrichrate49'].mean()\n",
    "            \n",
    "            light_on = r['time']\n",
    "        elif r['eventtype'] == 'LIGHT OFF':\n",
    "            # peaks at light rate in the dark before light on\n",
    "            light_high = df.loc[(df.time >= light_on) & (df.time< r['time']-3), 'enrichrate49'].max()\n",
    "            light_low = df.loc[(df.time >= light_on) & (df.time< r['time']-3), 'enrichrate49'].min()\n",
    "            light_steady = df.loc[(df.time >= r['time']-10) & (df.time< r['time']-3), 'enrichrate49'].mean()\n",
    "            dark2_high = df.loc[(df.time >= r['time']) & (df.time< r['time']+150), 'enrichrate49'].min()\n",
    "            dark2_low = df.loc[(df.time >= r['time']) & (df.time< r['time']+150), 'enrichrate49'].min()\n",
    "    newrow=[os.path.split(f)[-1], nc, inj_peak, dark1_steady, light_high, light_low,light_steady, dark2_high, dark2_low]\n",
    "    out.loc[len(out.index),:] = newrow\n",
    "#     print('\\n', os.path.split(f)[-1])\n",
    "#     print(' > nc=',nc)\n",
    "#     print(' > inj_peak=',inj_peak)\n",
    "#     print(' > dark_steady=',dark1_steady)\n",
    "#     print(' > light_high=',light_high)\n",
    "#     print(' > light_low=',light_low)\n",
    "#     print(' > dark2_high=',dark2_high)\n",
    "#     print(' > dark2_low=',dark2_low)\n",
    "\n",
    "out.to_csv(os.path.join(datafolder, day,'results', 'peak_data.csv'))\n",
    "        "
   ]
  },
  {
   "cell_type": "code",
   "execution_count": 40,
   "metadata": {
    "collapsed": false
   },
   "outputs": [],
   "source": [
    "#non catalytic\n",
    "datafolder = \"C:\\\\Users\\\\U5040252\\\\Cloudstation\\\\Projects\\\\Mass_Spec_Data\\\\2016\\\\20160427\\\\\"\n",
    "filename = '20160427_ph78_NC.csv'\n",
    "%matplotlib inline\n",
    "\n",
    "df = pd.read_csv(os.path.join(datafolder, filename), encoding='ISO-8859-1')"
   ]
  },
  {
   "cell_type": "code",
   "execution_count": 54,
   "metadata": {
    "collapsed": false
   },
   "outputs": [
    {
     "data": {
      "text/plain": [
       "<matplotlib.axes._subplots.AxesSubplot at 0xd565080>"
      ]
     },
     "execution_count": 54,
     "metadata": {},
     "output_type": "execute_result"
    },
    {
     "data": {
      "image/png": "[encoded data removed]",
      "text/plain": [
       "<matplotlib.figure.Figure at 0xd5716a0>"
      ]
     },
     "metadata": {},
     "output_type": "display_data"
    }
   ],
   "source": [
    "df.ix[1500:,:].plot(x='Mass49', y='d45dt')"
   ]
  },
  {
   "cell_type": "code",
   "execution_count": 72,
   "metadata": {
    "collapsed": false
   },
   "outputs": [
    {
     "data": {
      "text/plain": [
       "(-0.00032065064737298949,\n",
       " 0.0086033291207768536,\n",
       " -0.95390425100256337,\n",
       " 0.0,\n",
       " 1.2582631554933897e-06)"
      ]
     },
     "execution_count": 72,
     "metadata": {},
     "output_type": "execute_result"
    }
   ],
   "source": [
    "from scipy import stats\n",
    "import numpy as np\n",
    "df2 = df.loc[df.d45dt.notnull() & (df.time > 150),:]\n",
    "\n",
    "slope, intercept, r_value, p_value, std_err = stats.linregress(np.array(df2.Mass49),np.array(df2.d45dt))\n",
    "slope, intercept, r_value, p_value, std_err"
   ]
  },
  {
   "cell_type": "code",
   "execution_count": 67,
   "metadata": {
    "collapsed": false
   },
   "outputs": [
    {
     "data": {
      "text/plain": [
       "array([ 0.85266931,  0.15143978,  0.6676604 ,  0.45694881,  0.67501097,\n",
       "        0.18086245,  0.30921397,  0.6733151 ,  0.66549419,  0.75891658])"
      ]
     },
     "execution_count": 67,
     "metadata": {},
     "output_type": "execute_result"
    }
   ],
   "source": [
    "np.random.random(10)"
   ]
  },
  {
   "cell_type": "code",
   "execution_count": 63,
   "metadata": {
    "collapsed": false
   },
   "outputs": [
    {
     "data": {
      "text/plain": [
       "array([ -6.16885152e-04,  -2.10003456e-04,  -4.14756826e-03, ...,\n",
       "         8.98841042e+00,   8.99156047e+00,   8.98724228e+00])"
      ]
     },
     "execution_count": 63,
     "metadata": {},
     "output_type": "execute_result"
    }
   ],
   "source": [
    "np.array(df.Mass49)"
   ]
  },
  {
   "cell_type": "code",
   "execution_count": 68,
   "metadata": {
    "collapsed": false
   },
   "outputs": [
    {
     "data": {
      "text/plain": [
       "array([ 0.00284327,  0.00286255,  0.00287444, ...,         nan,\n",
       "               nan,         nan])"
      ]
     },
     "execution_count": 68,
     "metadata": {},
     "output_type": "execute_result"
    }
   ],
   "source": [
    "np.array(df.ix[1500:,'d45dt'])"
   ]
  },
  {
   "cell_type": "code",
   "execution_count": 65,
   "metadata": {
    "collapsed": false
   },
   "outputs": [
    {
     "data": {
      "text/plain": [
       "<matplotlib.axes._subplots.AxesSubplot at 0x11b5bb38>"
      ]
     },
     "execution_count": 65,
     "metadata": {},
     "output_type": "execute_result"
    },
    {
     "data": {
      "image/png": "[encoded data removed]",
      "text/plain": [
       "<matplotlib.figure.Figure at 0x11b86e80>"
      ]
     },
     "metadata": {},
     "output_type": "display_data"
    }
   ],
   "source": [
    "np.array(df.loc[df.d45dt.notnull(),'d45dt'])"
   ]
  },
  {
   "cell_type": "code",
   "execution_count": null,
   "metadata": {
    "collapsed": true
   },
   "outputs": [],
   "source": []
  }
 ],
 "metadata": {
  "kernelspec": {
   "display_name": "Python 3",
   "language": "python",
   "name": "python3"
  },
  "language_info": {
   "codemirror_mode": {
    "name": "ipython",
    "version": 3
   },
   "file_extension": ".py",
   "mimetype": "text/x-python",
   "name": "python",
   "nbconvert_exporter": "python",
   "pygments_lexer": "ipython3",
   "version": "3.5.1"
  }
 },
 "nbformat": 4,
 "nbformat_minor": 0
}
